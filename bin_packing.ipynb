{
 "cells": [
  {
   "cell_type": "markdown",
   "metadata": {},
   "source": [
    "\n",
    "# Sample Bin Packing Fitness\n",
    "\n",
    "This notebook is to figure out ways to represent the problem landscape, and write fitness functions appropriate for the representation.\n"
   ]
  },
  {
   "cell_type": "markdown",
   "metadata": {},
   "source": [
    "[Offline bin-packing](https://en.wikipedia.org/wiki/Bin_packing_problem#Offline_algorithms) - Ability to see all items before placing them into bins and allows improved approximation ratios."
   ]
  },
  {
   "cell_type": "markdown",
   "metadata": {},
   "source": [
    "\n",
    "# Current Idea\n",
    "\n",
    "## Representation\n",
    "\n",
    "- Individuals are lists of binary strings\n",
    "- Each string represents a bin, and all strings are of length $n$, the number of items\n",
    "- 0 means that the item is not in current bin, and 1 means the item is in current bin\n",
    "- length of list would be Number of bins\n",
    "\n",
    "## Uncertain parts\n",
    "\n",
    "- To determine whether or not an item can be put into a bin, a function can be used\n",
    "  - Function would be an approximation algorithm, such as Best Fit Decreasing\n",
    "  - This would be the population generation function (I guess?)\n",
    "\n",
    "- Not sure how to maintain constraint on individuals after crossover and/or mutation\n",
    "  - A repair function most likely needs to be introduced \n",
    "  - Or implement a constraint check (how tho???)\n",
    "  - Allow (discourage / punish via fitness function)\n",
    "  \n",
    "Constraint and repair function may introduce bias towards a local optima instead of global depending on the problem landscape and degree of uncertainty?\n",
    "\n",
    "Discourage / punish solutions that violates the bin capacity constraint is a more general method that does not make assumptions of problem landscape\n",
    "\n",
    "### Recommended Testing bits\n",
    "\n",
    "- Change algorithm so that it can take a repair function, and compare performance with non-repair counterpart\n",
    "\n",
    "\n",
    "### Miscellaneous bits\n",
    "\n",
    "- Lower bound or higher bound bins? how could they be used for the fitness function? current fitness function calculates the ratio between solution_num_bins and optimal bins (lower bound)\n",
    "- Less heuristics could be a way to look at it\n",
    "- Try to implement it \n"
   ]
  },
  {
   "cell_type": "markdown",
   "metadata": {},
   "source": [
    "\n",
    "# Part B\n"
   ]
  },
  {
   "cell_type": "markdown",
   "metadata": {},
   "source": [
    "\n",
    "# Fitness Function and optimum bin amount calc\n"
   ]
  },
  {
   "cell_type": "code",
   "execution_count": 1,
   "metadata": {},
   "outputs": [],
   "source": [
    "import matplotlib.pyplot as plt\n",
    "import random\n",
    "import math\n",
    "\n",
    "# weights is a map of weights to number of items with that weight\n",
    "# calculate optimal number of bins\n",
    "\n",
    "def optimal_bin_count(weights, capacity):\n",
    "    sum_weight = 0\n",
    "    for weight in weights:\n",
    "        sum_weight += weight * weights[weight]\n",
    "    return math.ceil(sum_weight / capacity)\n",
    "\n",
    "# bin-packing fitness function\n",
    "# calculates fitness by dividing optimal number of bins by number of bins used\n",
    "# and multiplying by 100 for percentage\n",
    "\n",
    "def bpp_fitness(optimal_bins, bins):\n",
    "    return bins / optimal_bins * 100"
   ]
  },
  {
   "cell_type": "code",
   "execution_count": null,
   "metadata": {},
   "outputs": [],
   "source": [
    "\n",
    "# Tournament selection function\n",
    "\n",
    "# selects k individuals from the population at random\n",
    "# returns the index of the best individual\n",
    "\n",
    "def tournament_selection(population, scores, k=3):\n",
    "    # Select k individuals from population at random\n",
    "    selection_i = random.randrange(len(population))\n",
    "    for i in [random.randrange(len(population)) for _ in range(k-1)]:\n",
    "        # Check if better (e.g. perform a tournament)\n",
    "        if scores[i] < scores[selection_i]:\n",
    "            selection_i = i\n",
    "    # Return the index of the best\n",
    "    return population[selection_i]\n"
   ]
  },
  {
   "cell_type": "code",
   "execution_count": 2,
   "metadata": {},
   "outputs": [],
   "source": [
    "\n",
    "# mutation function\n"
   ]
  },
  {
   "cell_type": "code",
   "execution_count": 3,
   "metadata": {},
   "outputs": [],
   "source": [
    "\n",
    "# crossover function\n"
   ]
  },
  {
   "cell_type": "code",
   "execution_count": null,
   "metadata": {},
   "outputs": [],
   "source": [
    "\n",
    "# elitism\n",
    "\n",
    "\n",
    "# Elitism selection function\n",
    "\n",
    "def elite_select(population, scores, elite_factor=ELITE_FACTOR):\n",
    "    elite_size = int(len(population) * elite_factor)\n",
    "    # Sort the population based on scores in ascending order\n",
    "    sorted_population = [x for _, x in sorted(zip(scores, population))]\n",
    "\n",
    "    # Select the elite individuals\n",
    "    elite = sorted_population[:elite_size]\n",
    "\n",
    "    # Return the elite individuals\n",
    "    return elite"
   ]
  },
  {
   "cell_type": "markdown",
   "metadata": {},
   "source": [
    "\n",
    "#### Read Problem File\n"
   ]
  },
  {
   "cell_type": "code",
   "execution_count": 5,
   "metadata": {},
   "outputs": [
    {
     "name": "stdout",
     "output_type": "stream",
     "text": [
      "[{200: 3, 199: 1, 198: 2, 197: 2, 194: 2, 193: 1, 192: 1, 191: 3, 190: 2, 189: 1, 188: 2, 187: 2, 186: 1, 185: 4, 184: 3, 183: 3, 182: 3, 181: 2, 180: 1, 179: 4, 178: 1, 177: 4, 175: 1, 174: 1, 173: 2, 172: 1, 171: 3, 170: 2, 169: 3, 167: 2, 165: 2, 164: 1, 163: 4, 162: 1, 161: 1, 160: 2, 159: 1, 158: 3, 157: 1, 156: 6, 155: 3, 154: 2, 153: 1, 152: 3, 151: 2, 150: 4}, {200: 2, 199: 4, 198: 1, 197: 1, 196: 2, 195: 2, 194: 2, 193: 1, 191: 2, 190: 1, 189: 2, 188: 1, 187: 2, 186: 1, 185: 2, 184: 5, 183: 1, 182: 1, 181: 3, 180: 2, 179: 2, 178: 1, 176: 1, 175: 2, 174: 5, 173: 1, 172: 3, 171: 1, 170: 4, 169: 2, 168: 1, 167: 5, 165: 2, 164: 2, 163: 3, 162: 2, 160: 2, 159: 2, 158: 2, 157: 4, 156: 3, 155: 2, 154: 1, 153: 3, 152: 2, 151: 2, 150: 2}, {200: 1, 199: 2, 197: 2, 196: 2, 193: 3, 192: 2, 191: 2, 190: 2, 189: 3, 188: 1, 187: 1, 185: 3, 183: 2, 182: 1, 181: 3, 180: 3, 179: 3, 178: 1, 177: 5, 176: 2, 175: 5, 174: 4, 173: 1, 171: 3, 170: 1, 169: 2, 168: 5, 167: 1, 166: 4, 165: 2, 163: 1, 162: 2, 161: 2, 160: 3, 159: 2, 158: 2, 157: 1, 156: 3, 155: 3, 154: 1, 153: 2, 152: 3, 151: 2, 150: 1}, {200: 3, 199: 5, 198: 4, 197: 1, 195: 1, 193: 4, 192: 1, 188: 1, 187: 1, 186: 3, 185: 3, 184: 2, 183: 2, 182: 1, 181: 1, 180: 3, 179: 2, 178: 6, 177: 2, 176: 4, 175: 1, 173: 4, 172: 4, 170: 1, 169: 3, 168: 4, 167: 1, 165: 3, 164: 1, 163: 2, 162: 4, 161: 1, 160: 3, 159: 3, 158: 1, 157: 3, 155: 2, 154: 3, 153: 1, 152: 3, 151: 1, 150: 1}, {200: 5, 199: 2, 198: 2, 197: 2, 196: 1, 195: 3, 194: 2, 193: 2, 192: 4, 191: 2, 190: 4, 188: 3, 187: 2, 186: 2, 185: 1, 184: 1, 183: 1, 182: 1, 181: 3, 180: 1, 178: 3, 177: 2, 176: 2, 174: 1, 173: 1, 172: 1, 171: 3, 168: 2, 167: 1, 165: 1, 164: 1, 163: 1, 162: 3, 161: 3, 160: 3, 159: 2, 158: 3, 157: 3, 156: 2, 155: 5, 154: 3, 153: 3, 151: 5, 150: 2}]\n",
      "[1000, 1000, 1000, 1000, 1000]\n",
      "[46, 47, 44, 42, 44]\n"
     ]
    }
   ],
   "source": [
    "# open binpacking.txt\n",
    "\n",
    "with open(\"Binpacking.txt\", \"r\") as file:\n",
    "    lines = file.readlines()\n",
    "\n",
    "\n",
    "for _ in range(17):\n",
    "    # removes till 'BPP      1'\n",
    "    lines.pop(0)\n",
    "\n",
    "# from here, text file repeats in pattern\n",
    "# BPP      i\n",
    "# number of different weights\n",
    "# capacity of bin\n",
    "# weight          number of items (repeats number of different weights times)\n",
    "\n",
    "num_weights = []\n",
    "capacities = []\n",
    "item_weights = []\n",
    "\n",
    "# loop through 5 BPP scenarios\n",
    "for i in range(5):\n",
    "    # remove seperator BPP i\n",
    "    lines.pop(0)\n",
    "\n",
    "    # saves number of different weights\n",
    "    # and capacity of bin\n",
    "    num_weights.append(int(lines.pop(0)))\n",
    "    capacities.append(int(lines.pop(0)))\n",
    "\n",
    "    # make new map for BPP scenario i\n",
    "    item_weights.append({})\n",
    "    # loop through number of different weights\n",
    "    for j in range(num_weights[i]):\n",
    "        # split line into weight and number of items with weight\n",
    "        line = lines.pop(0).split()\n",
    "        # map weight to number of items with weight\n",
    "        item_weights[i][int(line[0])] = int(line[1])\n",
    "\n",
    "# close file, idk if this is needed\n",
    "file.close()\n",
    "\n",
    "# debug print for sanity check\n",
    "# cuz im going insane\n",
    "print(item_weights)\n",
    "print(capacities)\n",
    "print(num_weights)\n"
   ]
  },
  {
   "cell_type": "markdown",
   "metadata": {},
   "source": [
    "\n",
    "### Algorithm\n"
   ]
  },
  {
   "cell_type": "code",
   "execution_count": null,
   "metadata": {},
   "outputs": [],
   "source": [
    "\n",
    "# change algorithm so that crossover is only performed if the function is passed in\n",
    "\n",
    "# Generic GA algorithm that is passed different functions\n",
    "\n",
    "def algorithm(fitness, generate_population, mutation, size, generations, pop_size, cross_rate, mutate_rate, elite_factor, crossover=None, converge_gen=100):\n",
    "\n",
    "    # define average fitness list to plot\n",
    "    avg_fitness = []\n",
    "\n",
    "    # initial random population\n",
    "    population = [generate_population(size) for _ in range(pop_size)]\n",
    "    # debug - print size of population\n",
    "    print(\"Population size: %d\" % len(population))\n",
    "    # debug - print length of first individual\n",
    "    print(\"Individual length: %d\" % len(population[0]))\n",
    "\n",
    "    # Store temp best solution\n",
    "    best_solution, best_fitness = 0, fitness(population[0])\n",
    "\n",
    "    # Loop generations\n",
    "    for gen in range(generations):\n",
    "        # Evaluate all individuals in population\n",
    "        scores = [fitness(c) for c in population]\n",
    "        # calculate average fitness of generation\n",
    "        avg_fitness.append(sum(scores) / pop_size)\n",
    "\n",
    "        # if there are enough generations to check for convergence\n",
    "        if gen >= converge_gen:\n",
    "            last_n_avg_fitnesses = avg_fitness[gen-converge_gen:gen]\n",
    "            # exit on convergence\n",
    "            if last_n_avg_fitnesses.count(last_n_avg_fitnesses[0]) == converge_gen:\n",
    "                print(\"Converged at generation %d\" % gen)\n",
    "                break\n",
    "\n",
    "        # print best score every 100 generations\n",
    "        if gen % 100 == 0:\n",
    "            print(\"Generation %d, best score = %.3f, average fitness = %.3f\" %\n",
    "                  (gen, min(scores), avg_fitness[gen]))\n",
    "\n",
    "        # Check for new best solution\n",
    "        for i in range(pop_size):\n",
    "            if scores[i] < best_fitness:\n",
    "                best_solution, best_fitness = population[i], scores[i]\n",
    "                print(\"Generation %d, new best f(%s) = %.3f\" %\n",
    "                      (gen, population[i], scores[i]))\n",
    "\n",
    "        # Select parents to crossover\n",
    "        parents = [tournament_selection(population, scores)\n",
    "                   for _ in range(pop_size)]\n",
    "        # Create next generation\n",
    "        children = list()\n",
    "        children.extend(elite_select(population, scores, elite_factor))\n",
    "\n",
    "        for i in range(0, pop_size, 2):\n",
    "            # Get pair of parents\n",
    "            parent1, parent2 = parents[i], parents[i+1]\n",
    "            # Perform crossover\n",
    "            for child in crossover(parent1, parent2, cross_rate):\n",
    "                # Mutate child\n",
    "                mutation(child, mutate_rate)\n",
    "                # Add to next generation\n",
    "                children.append(child)\n",
    "        # Replace population\n",
    "        population = children\n",
    "\n",
    "    # plot average fitness over generations\n",
    "    plt.plot(avg_fitness)\n",
    "    plt.xlabel('Generation')\n",
    "    plt.ylabel('Average Fitness')\n",
    "    plt.show()\n",
    "\n",
    "    return [best_solution, best_fitness]"
   ]
  },
  {
   "cell_type": "code",
   "execution_count": null,
   "metadata": {},
   "outputs": [],
   "source": [
    "if __name__ == '__main__':\n",
    "    print(\"BPP - 1\")\n",
    "    print(\"Running algorithm...\")\n",
    "    # TODO: write population generation function\n",
    "    solution, score = algorithm(\n",
    "        bpp_fitness, binary_string_generator, STRING_SIZE, NUM_GENERATIONS, POPULATION_SIZE, CROSSOVER_RATE, MUTATION_RATE, ELITE_FACTOR)\n",
    "        \n",
    "    print(\"Completed operations\")"
   ]
  }
 ],
 "metadata": {
  "kernelspec": {
   "display_name": "Python 3",
   "language": "python",
   "name": "python3"
  },
  "language_info": {
   "codemirror_mode": {
    "name": "ipython",
    "version": 3
   },
   "file_extension": ".py",
   "mimetype": "text/x-python",
   "name": "python",
   "nbconvert_exporter": "python",
   "pygments_lexer": "ipython3",
   "version": "3.9.13"
  }
 },
 "nbformat": 4,
 "nbformat_minor": 2
}
