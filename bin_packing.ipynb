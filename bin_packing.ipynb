{
 "cells": [
  {
   "cell_type": "markdown",
   "metadata": {},
   "source": [
    "\n",
    "# Sample Bin Packing Fitness\n",
    "\n",
    "This notebook is to figure out ways to represent the problem landscape, and write fitness functions appropriate for the representation.\n"
   ]
  },
  {
   "cell_type": "markdown",
   "metadata": {},
   "source": [
    "[Offline bin-packing](https://en.wikipedia.org/wiki/Bin_packing_problem#Offline_algorithms) - Ability to see all items before placing them into bins and allows improved approximation ratios."
   ]
  },
  {
   "cell_type": "markdown",
   "metadata": {},
   "source": [
    "\n",
    "# Current Idea\n",
    "\n",
    "## Representation\n",
    "\n",
    "- Individuals are lists of binary strings\n",
    "- Each string represents a bin, and all strings are of length $n$, the number of items\n",
    "- 0 means that the item is not in current bin, and 1 means the item is in current bin\n",
    "- length of list would be Number of bins\n",
    "- also have an array which stores weights\n",
    "  - e.g. for bin: \\[10**1**01\\], we can get the italicised 1's weight by getting the weight at the 2nd index in the weights array\n",
    "   \n",
    "\n",
    "## Uncertain parts\n",
    "\n",
    "- To determine whether or not an item can be put into a bin, a function can be used\n",
    "  - Function would be an approximation algorithm, such as Best Fit Decreasing\n",
    "  - This would be the population generation function (I guess?)\n",
    "\n",
    "- Not sure how to maintain constraint on individuals after crossover and/or mutation\n",
    "  - A repair function most likely needs to be introduced \n",
    "  - Or implement a constraint check (how tho???)\n",
    "  - Allow (discourage / punish via fitness function)\n",
    "  \n",
    "Constraint and repair function may introduce bias towards a local optima instead of global depending on the problem landscape and degree of uncertainty?\n",
    "\n",
    "Discourage / punish solutions that violates the bin capacity constraint is a more general method that does not make assumptions of problem landscape\n",
    "\n",
    "### Recommended Testing bits\n",
    "\n",
    "- Change algorithm so that it can take a repair function, and compare performance with non-repair counterpart\n",
    "\n",
    "\n",
    "### Miscellaneous bits\n",
    "\n",
    "- Lower bound or higher bound bins? how could they be used for the fitness function? current fitness function calculates the ratio between solution_num_bins and optimal bins (lower bound)\n",
    "- Less heuristics could be a way to look at it\n",
    "- Try to implement it \n",
    "\n",
    "### Aoife's Notes\n",
    "\n",
    "Mutation swapping seems like the only way to do mutation - as in, the nature of the problem means we can't mutate without swapping.\n",
    "E.G. if n = 4 and two of our bins are: \\[1100\\] and \\[0011\\], we want to mutate only one chromosome. The first chromosome gets selected, so we flip the bit. Then we would have \\[0100\\] and \\[0011\\], but now the first item is not in a bin. We either must create an extra bin to place the first item (which seems crazy but I guess we could try), or we flip the corresponding bit in bin 2, so that the item is now in the other bin.\n",
    "\n",
    "The only difference between this basic example and our implementation is that our implementation will have many bins, and so when we want to swap a bit, we should randomly select the bin for it to be swapped to.\n",
    "\n"
   ]
  },
  {
   "cell_type": "markdown",
   "metadata": {},
   "source": [
    "\n",
    "# Part B\n"
   ]
  },
  {
   "cell_type": "markdown",
   "metadata": {},
   "source": [
    "\n",
    "#### Read Problem File\n"
   ]
  },
  {
   "cell_type": "code",
   "execution_count": 13,
   "metadata": {},
   "outputs": [
    {
     "name": "stdout",
     "output_type": "stream",
     "text": [
      "[{}, {}, {}, {}, {}]\n",
      "[200, 200, 200, 199, 198, 198, 197, 197, 194, 194, 193, 192, 191, 191, 191, 190, 190, 189, 188, 188, 187, 187, 186, 185, 185, 185, 185, 184, 184, 184, 183, 183, 183, 182, 182, 182, 181, 181, 180, 179, 179, 179, 179, 178, 177, 177, 177, 177, 175, 174, 173, 173, 172, 171, 171, 171, 170, 170, 169, 169, 169, 167, 167, 165, 165, 164, 163, 163, 163, 163, 162, 161, 160, 160, 159, 158, 158, 158, 157, 156, 156, 156, 156, 156, 156, 155, 155, 155, 154, 154, 153, 152, 152, 152, 151, 151, 150, 150, 150, 150, 200, 200, 199, 199, 199, 199, 198, 197, 196, 196, 195, 195, 194, 194, 193, 191, 191, 190, 189, 189, 188, 187, 187, 186, 185, 185, 184, 184, 184, 184, 184, 183, 182, 181, 181, 181, 180, 180, 179, 179, 178, 176, 175, 175, 174, 174, 174, 174, 174, 173, 172, 172, 172, 171, 170, 170, 170, 170, 169, 169, 168, 167, 167, 167, 167, 167, 165, 165, 164, 164, 163, 163, 163, 162, 162, 160, 160, 159, 159, 158, 158, 157, 157, 157, 157, 156, 156, 156, 155, 155, 154, 153, 153, 153, 152, 152, 151, 151, 150, 150, 200, 199, 199, 197, 197, 196, 196, 193, 193, 193, 192, 192, 191, 191, 190, 190, 189, 189, 189, 188, 187, 185, 185, 185, 183, 183, 182, 181, 181, 181, 180, 180, 180, 179, 179, 179, 178, 177, 177, 177, 177, 177, 176, 176, 175, 175, 175, 175, 175, 174, 174, 174, 174, 173, 171, 171, 171, 170, 169, 169, 168, 168, 168, 168, 168, 167, 166, 166, 166, 166, 165, 165, 163, 162, 162, 161, 161, 160, 160, 160, 159, 159, 158, 158, 157, 156, 156, 156, 155, 155, 155, 154, 153, 153, 152, 152, 152, 151, 151, 150, 200, 200, 200, 199, 199, 199, 199, 199, 198, 198, 198, 198, 197, 195, 193, 193, 193, 193, 192, 188, 187, 186, 186, 186, 185, 185, 185, 184, 184, 183, 183, 182, 181, 180, 180, 180, 179, 179, 178, 178, 178, 178, 178, 178, 177, 177, 176, 176, 176, 176, 175, 173, 173, 173, 173, 172, 172, 172, 172, 170, 169, 169, 169, 168, 168, 168, 168, 167, 165, 165, 165, 164, 163, 163, 162, 162, 162, 162, 161, 160, 160, 160, 159, 159, 159, 158, 157, 157, 157, 155, 155, 154, 154, 154, 153, 152, 152, 152, 151, 150, 200, 200, 200, 200, 200, 199, 199, 198, 198, 197, 197, 196, 195, 195, 195, 194, 194, 193, 193, 192, 192, 192, 192, 191, 191, 190, 190, 190, 190, 188, 188, 188, 187, 187, 186, 186, 185, 184, 183, 182, 181, 181, 181, 180, 178, 178, 178, 177, 177, 176, 176, 174, 173, 172, 171, 171, 171, 168, 168, 167, 165, 164, 163, 162, 162, 162, 161, 161, 161, 160, 160, 160, 159, 159, 158, 158, 158, 157, 157, 157, 156, 156, 155, 155, 155, 155, 155, 154, 154, 154, 153, 153, 153, 151, 151, 151, 151, 151, 150, 150]\n",
      "[1000, 1000, 1000, 1000, 1000]\n",
      "[46, 47, 44, 42, 44]\n"
     ]
    }
   ],
   "source": [
    "# open binpacking.txt\n",
    "\n",
    "with open(\"Binpacking.txt\", \"r\") as file:\n",
    "    lines = file.readlines()\n",
    "\n",
    "\n",
    "for _ in range(17):\n",
    "    # removes till 'BPP      1'\n",
    "    lines.pop(0)\n",
    "\n",
    "# from here, text file repeats in pattern\n",
    "# BPP      i\n",
    "# number of different weights\n",
    "# capacity of bin\n",
    "# weight          number of items (repeats number of different weights times)\n",
    "\n",
    "num_weights = []\n",
    "capacities = []\n",
    "item_weights = []\n",
    "weights = []\n",
    "\n",
    "# loop through 5 BPP scenarios\n",
    "for i in range(5):\n",
    "    # remove seperator BPP i\n",
    "    lines.pop(0)\n",
    "\n",
    "    # saves number of different weights\n",
    "    # and capacity of bin\n",
    "    num_weights.append(int(lines.pop(0)))\n",
    "    capacities.append(int(lines.pop(0)))\n",
    "\n",
    "    # make new map for BPP scenario i\n",
    "    item_weights.append({}) # append []\n",
    "    # loop through number of different weights\n",
    "    for j in range(num_weights[i]):\n",
    "        # split line into weight and number of items with weight\n",
    "        line = lines.pop(0).split()\n",
    "\n",
    "        #TODO: Change so this section reading in weights to a list\n",
    "        for _ in range(int(line[1])):\n",
    "            weights.append(int(line[0]))\n",
    "\n",
    "        # map weight to number of items with weight\n",
    "        # item_weights[i][int(line[0])] = int(line[1])\n",
    "\n",
    "# close file, idk if this is needed\n",
    "file.close()\n",
    "\n",
    "# debug print for sanity check\n",
    "# cuz im going insane\n",
    "print(item_weights)\n",
    "print(weights)\n",
    "print(capacities)\n",
    "print(num_weights)\n"
   ]
  },
  {
   "cell_type": "markdown",
   "metadata": {},
   "source": [
    "\n",
    "### Fitness Function and optimum bin amount calc\n"
   ]
  },
  {
   "cell_type": "code",
   "execution_count": 5,
   "metadata": {},
   "outputs": [],
   "source": [
    "import matplotlib.pyplot as plt\n",
    "import random\n",
    "import math\n",
    "\n",
    "MUTATION_RATE = 0.1\n",
    "CROSSOVER_RATE = 0.9\n",
    "NUM_GENERATIONS = 1000\n",
    "ELITE_FACTOR = 1/10\n"
   ]
  },
  {
   "cell_type": "code",
   "execution_count": 6,
   "metadata": {},
   "outputs": [],
   "source": [
    "\n",
    "# weights is a map of weights to number of items with that weight\n",
    "# calculate optimal number of bins\n",
    "\n",
    "def optimal_bin_count(weights, capacity):\n",
    "    sum_weight = 0\n",
    "    for weight in weights:\n",
    "        sum_weight += weight * weights[weight]\n",
    "    return math.ceil(sum_weight / capacity)\n",
    "\n",
    "# bin-packing fitness function\n",
    "# calculates fitness by dividing optimal number of bins by number of bins used\n",
    "# and multiplying by 100 for percentage\n",
    "\n",
    "def bpp_bin_ratio_fitness(optimal_bins, bins):\n",
    "    return bins / optimal_bins * 100\n",
    "\n",
    "# bin-packing fitness function alternative\n",
    "# calculates fitness by determining error for each bin\n",
    "# actual bin weight - capacity\n",
    "# perfect bin = 0\n",
    "\n",
    "def bpp_capacity_error_fitness(bin, item_weights, capacity):\n",
    "    sum_weight = 0\n",
    "    for i in range(len(bin)):\n",
    "        if bin[i] == 1:\n",
    "            sum_weight += item_weights[i]\n",
    "    error = (sum_weight - capacity) ** 2\n",
    "    return error"
   ]
  },
  {
   "cell_type": "code",
   "execution_count": 7,
   "metadata": {},
   "outputs": [],
   "source": [
    "\n",
    "# Tournament selection function\n",
    "\n",
    "# selects k individuals from the population at random\n",
    "# returns the index of the best individual\n",
    "\n",
    "def tournament_selection(population, scores, k=3):\n",
    "    # Select k individuals from population at random\n",
    "    selection_i = random.randrange(len(population))\n",
    "    for i in [random.randrange(len(population)) for _ in range(k-1)]:\n",
    "        # Check if better (e.g. perform a tournament)\n",
    "        if scores[i] < scores[selection_i]:\n",
    "            selection_i = i\n",
    "    # Return the index of the best\n",
    "    return population[selection_i]\n"
   ]
  },
  {
   "cell_type": "code",
   "execution_count": 8,
   "metadata": {},
   "outputs": [],
   "source": [
    "\n",
    "# mutation function\n",
    "# each item has a 1/n chance of being mutated\n",
    "# if mutated, item is swapped with another item\n",
    "\n",
    "def mutate(bins, bin, mutation_rate):\n",
    "    for i in range(len(bin)):\n",
    "        if random.random() < mutation_rate:\n",
    "            for j in range(len(bin)):\n",
    "                # I want to swap the item in the bin with a corresponding item from another bin\n",
    "                # flip the current bit in the string\n",
    "                \n",
    "    return bin\n"
   ]
  },
  {
   "cell_type": "code",
   "execution_count": 9,
   "metadata": {},
   "outputs": [],
   "source": [
    "\n",
    "# crossover function\n"
   ]
  },
  {
   "cell_type": "code",
   "execution_count": 10,
   "metadata": {},
   "outputs": [],
   "source": [
    "\n",
    "# elitism function\n",
    "\n",
    "def elite_select(population, scores, elite_factor=ELITE_FACTOR):\n",
    "    elite_size = int(len(population) * elite_factor)\n",
    "    # Sort the population based on scores in ascending order\n",
    "    sorted_population = [x for _, x in sorted(zip(scores, population))]\n",
    "\n",
    "    # Select the elite individuals\n",
    "    elite = sorted_population[:elite_size]\n",
    "\n",
    "    # Return the elite individuals\n",
    "    return elite\n"
   ]
  },
  {
   "cell_type": "markdown",
   "metadata": {},
   "source": [
    "\n",
    "### Algorithm\n"
   ]
  },
  {
   "cell_type": "code",
   "execution_count": 11,
   "metadata": {},
   "outputs": [],
   "source": [
    "\n",
    "# change algorithm so that crossover is only performed if the function is passed in\n",
    "\n",
    "# Generic GA algorithm that is passed different functions\n",
    "\n",
    "def algorithm(fitness, generate_population, mutation, size, generations, pop_size, cross_rate, mutate_rate, elite_factor, crossover=None, converge_gen=100):\n",
    "\n",
    "    # define average fitness list to plot\n",
    "    avg_fitness = []\n",
    "\n",
    "    # initial random population\n",
    "    population = [generate_population(size) for _ in range(pop_size)]\n",
    "    # debug - print size of population\n",
    "    print(\"Population size: %d\" % len(population))\n",
    "    # debug - print length of first individual\n",
    "    print(\"Individual length: %d\" % len(population[0]))\n",
    "\n",
    "    # Store temp best solution\n",
    "    best_solution, best_fitness = 0, fitness(population[0])\n",
    "\n",
    "    # Loop generations\n",
    "    for gen in range(generations):\n",
    "        # Evaluate all individuals in population\n",
    "        scores = [fitness(c) for c in population]\n",
    "        # calculate average fitness of generation\n",
    "        avg_fitness.append(sum(scores) / pop_size)\n",
    "\n",
    "        # if there are enough generations to check for convergence\n",
    "        if gen >= converge_gen:\n",
    "            last_n_avg_fitnesses = avg_fitness[gen-converge_gen:gen]\n",
    "            # exit on convergence\n",
    "            if last_n_avg_fitnesses.count(last_n_avg_fitnesses[0]) == converge_gen:\n",
    "                print(\"Converged at generation %d\" % gen)\n",
    "                break\n",
    "\n",
    "        # print best score every 100 generations\n",
    "        if gen % 100 == 0:\n",
    "            print(\"Generation %d, best score = %.3f, average fitness = %.3f\" %\n",
    "                  (gen, min(scores), avg_fitness[gen]))\n",
    "\n",
    "        # Check for new best solution\n",
    "        for i in range(pop_size):\n",
    "            if scores[i] < best_fitness:\n",
    "                best_solution, best_fitness = population[i], scores[i]\n",
    "                print(\"Generation %d, new best f(%s) = %.3f\" %\n",
    "                      (gen, population[i], scores[i]))\n",
    "\n",
    "        # Select parents to crossover\n",
    "        parents = [tournament_selection(population, scores)\n",
    "                   for _ in range(pop_size)]\n",
    "        # Create next generation\n",
    "        children = list()\n",
    "        children.extend(elite_select(population, scores, elite_factor))\n",
    "\n",
    "        for i in range(0, pop_size, 2):\n",
    "            # Get pair of parents\n",
    "            parent1, parent2 = parents[i], parents[i+1]\n",
    "            # Perform crossover\n",
    "            for child in crossover(parent1, parent2, cross_rate):\n",
    "                # Mutate child\n",
    "                mutation(child, mutate_rate)\n",
    "                # Add to next generation\n",
    "                children.append(child)\n",
    "        # Replace population\n",
    "        population = children\n",
    "\n",
    "    # plot average fitness over generations\n",
    "    plt.plot(avg_fitness)\n",
    "    plt.xlabel('Generation')\n",
    "    plt.ylabel('Average Fitness')\n",
    "    plt.show()\n",
    "\n",
    "    return [best_solution, best_fitness]"
   ]
  },
  {
   "cell_type": "code",
   "execution_count": 12,
   "metadata": {},
   "outputs": [
    {
     "name": "stdout",
     "output_type": "stream",
     "text": [
      "BPP - 1\n",
      "Running algorithm...\n"
     ]
    },
    {
     "ename": "NameError",
     "evalue": "name 'bpp_fitness' is not defined",
     "output_type": "error",
     "traceback": [
      "\u001b[1;31m---------------------------------------------------------------------------\u001b[0m",
      "\u001b[1;31mNameError\u001b[0m                                 Traceback (most recent call last)",
      "Cell \u001b[1;32mIn[12], line 6\u001b[0m\n\u001b[0;32m      3\u001b[0m \u001b[38;5;28mprint\u001b[39m(\u001b[38;5;124m\"\u001b[39m\u001b[38;5;124mRunning algorithm...\u001b[39m\u001b[38;5;124m\"\u001b[39m)\n\u001b[0;32m      4\u001b[0m \u001b[38;5;66;03m# TODO: write population generation function\u001b[39;00m\n\u001b[0;32m      5\u001b[0m solution, score \u001b[38;5;241m=\u001b[39m algorithm(\n\u001b[1;32m----> 6\u001b[0m     \u001b[43mbpp_fitness\u001b[49m, binary_string_generator, STRING_SIZE, NUM_GENERATIONS, POPULATION_SIZE, CROSSOVER_RATE, MUTATION_RATE, ELITE_FACTOR)\n\u001b[0;32m      8\u001b[0m \u001b[38;5;28mprint\u001b[39m(\u001b[38;5;124m\"\u001b[39m\u001b[38;5;124mCompleted operations\u001b[39m\u001b[38;5;124m\"\u001b[39m)\n",
      "\u001b[1;31mNameError\u001b[0m: name 'bpp_fitness' is not defined"
     ]
    }
   ],
   "source": [
    "if __name__ == '__main__':\n",
    "    print(\"BPP - 1\")\n",
    "    print(\"Running algorithm...\")\n",
    "    # TODO: write population generation function\n",
    "    solution, score = algorithm(\n",
    "        bpp_fitness, binary_string_generator, STRING_SIZE, NUM_GENERATIONS, POPULATION_SIZE, CROSSOVER_RATE, MUTATION_RATE, ELITE_FACTOR)\n",
    "        \n",
    "    print(\"Completed operations\")"
   ]
  }
 ],
 "metadata": {
  "kernelspec": {
   "display_name": "Python 3",
   "language": "python",
   "name": "python3"
  },
  "language_info": {
   "codemirror_mode": {
    "name": "ipython",
    "version": 3
   },
   "file_extension": ".py",
   "mimetype": "text/x-python",
   "name": "python",
   "nbconvert_exporter": "python",
   "pygments_lexer": "ipython3",
   "version": "3.11.5"
  }
 },
 "nbformat": 4,
 "nbformat_minor": 2
}
