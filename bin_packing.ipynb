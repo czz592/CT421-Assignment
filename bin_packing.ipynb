{
 "cells": [
  {
   "cell_type": "markdown",
   "metadata": {},
   "source": [
    "\n",
    "# Sample Bin Packing Fitness\n",
    "\n",
    "This notebook is to figure out ways to represent the problem landscape, and write fitness functions appropriate for the representation.\n"
   ]
  },
  {
   "cell_type": "markdown",
   "metadata": {},
   "source": [
    "[Offline bin-packing](https://en.wikipedia.org/wiki/Bin_packing_problem#Offline_algorithms) - Ability to see all items before placing them into bins and allows improved approximation ratios."
   ]
  },
  {
   "cell_type": "markdown",
   "metadata": {},
   "source": [
    "\n",
    "## Things to figure out\n",
    "\n",
    "- [ ] Representation of problem landscape\n",
    "- [ ] Fitness function based on representation\n",
    "- [ ] Determine how could selection, crossover, and mutation be edited to fit new representation\n",
    "- [ ] Read file and store data in appropriate formats\n"
   ]
  },
  {
   "cell_type": "markdown",
   "metadata": {},
   "source": [
    "\n",
    "# Reading Problem File\n"
   ]
  },
  {
   "cell_type": "code",
   "execution_count": 8,
   "metadata": {},
   "outputs": [
    {
     "name": "stdout",
     "output_type": "stream",
     "text": [
      "[{200: 3, 199: 1, 198: 2, 197: 2, 194: 2, 193: 1, 192: 1, 191: 3, 190: 2, 189: 1, 188: 2, 187: 2, 186: 1, 185: 4, 184: 3, 183: 3, 182: 3, 181: 2, 180: 1, 179: 4, 178: 1, 177: 4, 175: 1, 174: 1, 173: 2, 172: 1, 171: 3, 170: 2, 169: 3, 167: 2, 165: 2, 164: 1, 163: 4, 162: 1, 161: 1, 160: 2, 159: 1, 158: 3, 157: 1, 156: 6, 155: 3, 154: 2, 153: 1, 152: 3, 151: 2, 150: 4}, {200: 2, 199: 4, 198: 1, 197: 1, 196: 2, 195: 2, 194: 2, 193: 1, 191: 2, 190: 1, 189: 2, 188: 1, 187: 2, 186: 1, 185: 2, 184: 5, 183: 1, 182: 1, 181: 3, 180: 2, 179: 2, 178: 1, 176: 1, 175: 2, 174: 5, 173: 1, 172: 3, 171: 1, 170: 4, 169: 2, 168: 1, 167: 5, 165: 2, 164: 2, 163: 3, 162: 2, 160: 2, 159: 2, 158: 2, 157: 4, 156: 3, 155: 2, 154: 1, 153: 3, 152: 2, 151: 2, 150: 2}, {200: 1, 199: 2, 197: 2, 196: 2, 193: 3, 192: 2, 191: 2, 190: 2, 189: 3, 188: 1, 187: 1, 185: 3, 183: 2, 182: 1, 181: 3, 180: 3, 179: 3, 178: 1, 177: 5, 176: 2, 175: 5, 174: 4, 173: 1, 171: 3, 170: 1, 169: 2, 168: 5, 167: 1, 166: 4, 165: 2, 163: 1, 162: 2, 161: 2, 160: 3, 159: 2, 158: 2, 157: 1, 156: 3, 155: 3, 154: 1, 153: 2, 152: 3, 151: 2, 150: 1}, {200: 3, 199: 5, 198: 4, 197: 1, 195: 1, 193: 4, 192: 1, 188: 1, 187: 1, 186: 3, 185: 3, 184: 2, 183: 2, 182: 1, 181: 1, 180: 3, 179: 2, 178: 6, 177: 2, 176: 4, 175: 1, 173: 4, 172: 4, 170: 1, 169: 3, 168: 4, 167: 1, 165: 3, 164: 1, 163: 2, 162: 4, 161: 1, 160: 3, 159: 3, 158: 1, 157: 3, 155: 2, 154: 3, 153: 1, 152: 3, 151: 1, 150: 1}, {200: 5, 199: 2, 198: 2, 197: 2, 196: 1, 195: 3, 194: 2, 193: 2, 192: 4, 191: 2, 190: 4, 188: 3, 187: 2, 186: 2, 185: 1, 184: 1, 183: 1, 182: 1, 181: 3, 180: 1, 178: 3, 177: 2, 176: 2, 174: 1, 173: 1, 172: 1, 171: 3, 168: 2, 167: 1, 165: 1, 164: 1, 163: 1, 162: 3, 161: 3, 160: 3, 159: 2, 158: 3, 157: 3, 156: 2, 155: 5, 154: 3, 153: 3, 151: 5, 150: 2}]\n",
      "[1000, 1000, 1000, 1000, 1000]\n",
      "[46, 47, 44, 42, 44]\n"
     ]
    }
   ],
   "source": [
    "# open binpacking.txt\n",
    "\n",
    "with open(\"Binpacking.txt\", \"r\") as file:\n",
    "    lines = file.readlines()\n",
    "\n",
    "\n",
    "for _ in range(17):\n",
    "    # removes till 'BPP      1'\n",
    "    lines.pop(0)\n",
    "\n",
    "# from here, text file repeats in pattern\n",
    "# BPP      i\n",
    "# number of different weights\n",
    "# capacity of bin\n",
    "# weight          number of items (repeats number of different weights times)\n",
    "\n",
    "num_weights = []\n",
    "capacities = []\n",
    "item_weights = []\n",
    "\n",
    "# loop through 5 BPP scenarios\n",
    "for i in range(5):\n",
    "    # remove seperator BPP i\n",
    "    lines.pop(0)\n",
    "    \n",
    "    # saves number of different weights\n",
    "    # and capacity of bin\n",
    "    num_weights.append(int(lines.pop(0)))\n",
    "    capacities.append(int(lines.pop(0)))\n",
    "    \n",
    "    # make new map for BPP scenario i\n",
    "    item_weights.append({})\n",
    "    # loop through number of different weights\n",
    "    for j in range (num_weights[i]):\n",
    "        # split line into weight and number of items with weight\n",
    "        line = lines.pop(0).split()\n",
    "        # map weight to number of items with weight\n",
    "        item_weights[i][int(line[0])] = int(line[1])\n",
    "\n",
    "# close file, idk if this is needed\n",
    "file.close()\n",
    "\n",
    "# debug print for sanity check\n",
    "# cuz im going insane\n",
    "print(item_weights)\n",
    "print(capacities)\n",
    "print(num_weights)"
   ]
  },
  {
   "cell_type": "markdown",
   "metadata": {},
   "source": [
    "# Code"
   ]
  },
  {
   "cell_type": "markdown",
   "metadata": {},
   "source": [
    "\n",
    "## Sample Bin-packing scenario\n",
    "\n",
    "3 items.\n"
   ]
  },
  {
   "cell_type": "code",
   "execution_count": null,
   "metadata": {},
   "outputs": [],
   "source": [
    "NUM_ITEMS = 3\n",
    "ITEM_WEIGHTS = [2, 2, 3]\n",
    "MAX_CAPACITY = 3\n",
    "BINS = []\n",
    "\n",
    "# have a dict of items and their weights?\n",
    "items = {'item1' : 2, 'item2' : 2, 'item3' : 3}"
   ]
  },
  {
   "cell_type": "code",
   "execution_count": null,
   "metadata": {},
   "outputs": [],
   "source": [
    "# fitness function \n",
    "# less bins = good\n",
    "\n",
    "def fitness(BINS):\n",
    "    if BINS == 1:\n",
    "        score = 0\n",
    "    else:\n",
    "        score = len(BINS)\n",
    "\n",
    "# another idea for fitness function\n",
    "# invovles ratio of weights in bin to capacity of bin\n",
    "# as well as number of bins"
   ]
  },
  {
   "cell_type": "code",
   "execution_count": null,
   "metadata": {},
   "outputs": [],
   "source": [
    "# randomly allocate items to bins\n",
    "def init(NUM_ITEMS, ITEM_WEIGHT, MAX_CAPACITY):\n",
    "\n",
    "    for item in NUM_ITEMS:\n",
    "        "
   ]
  }
 ],
 "metadata": {
  "kernelspec": {
   "display_name": "Python 3",
   "language": "python",
   "name": "python3"
  },
  "language_info": {
   "codemirror_mode": {
    "name": "ipython",
    "version": 3
   },
   "file_extension": ".py",
   "mimetype": "text/x-python",
   "name": "python",
   "nbconvert_exporter": "python",
   "pygments_lexer": "ipython3",
   "version": "3.9.13"
  }
 },
 "nbformat": 4,
 "nbformat_minor": 2
}
