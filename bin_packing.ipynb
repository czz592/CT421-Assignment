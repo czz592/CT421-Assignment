{
 "cells": [
  {
   "cell_type": "markdown",
   "metadata": {},
   "source": [
    "\n",
    "# Sample Bin Packing Fitness\n",
    "\n",
    "This notebook is to figure out ways to represent the problem landscape, and write fitness functions appropriate for the representation.\n"
   ]
  },
  {
   "cell_type": "markdown",
   "metadata": {},
   "source": [
    "[Offline bin-packing](https://en.wikipedia.org/wiki/Bin_packing_problem#Offline_algorithms) - Ability to see all items before placing them into bins and allows improved approximation ratios."
   ]
  },
  {
   "cell_type": "markdown",
   "metadata": {},
   "source": [
    "\n",
    "## Things to figure out\n",
    "\n",
    "- [ ] Representation of problem landscape\n",
    "- [ ] Fitness function based on representation\n",
    "- [ ] Determine how could selection, crossover, and mutation be edited to fit new representation\n"
   ]
  },
  {
   "cell_type": "markdown",
   "metadata": {},
   "source": [
    "\n",
    "# Current Idea\n",
    "\n",
    "- Individuals are lists of binary strings\n",
    "- Each string represents a bin, and all strings are of length $n$, the number of items\n",
    "- 0 means that the item is not in current bin, and 1 means the item is in current bin\n",
    "- length of list would be Number of bins\n",
    "\n",
    "- To determine whether or not an item can be put into a bin, a function can be used\n",
    "  - Function would be an approximation algorithm, such as Best Fit Decreasing\n",
    "  - This would be the population generation function (I guess?)\n",
    "- A repair function most likely needs to be introduced\n",
    "  - Not sure how to maintain constraint on individuals after crossover and/or mutation"
   ]
  }
 ],
 "metadata": {
  "kernelspec": {
   "display_name": "Python 3",
   "language": "python",
   "name": "python3"
  },
  "language_info": {
   "codemirror_mode": {
    "name": "ipython",
    "version": 3
   },
   "file_extension": ".py",
   "mimetype": "text/x-python",
   "name": "python",
   "nbconvert_exporter": "python",
   "pygments_lexer": "ipython3",
   "version": "3.9.13"
  }
 },
 "nbformat": 4,
 "nbformat_minor": 2
}
