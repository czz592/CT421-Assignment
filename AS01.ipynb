{
 "cells": [
  {
   "cell_type": "markdown",
   "metadata": {},
   "source": [
    "\n",
    "# CT421 Project 1  Evolutionary Search - GAs\n",
    "\n",
    "**Aoife Mulligan 20307646 | Leo Chui 20343266**  \n"
   ]
  },
  {
   "cell_type": "markdown",
   "metadata": {},
   "source": [
    "\n",
    "# Part A\n"
   ]
  },
  {
   "cell_type": "code",
   "execution_count": null,
   "metadata": {},
   "outputs": [],
   "source": [
    "import matplotlib.pyplot as plt\n",
    "import random\n",
    "\n",
    "# Define global variables for string size, population size, and mutation rate\n",
    "\n",
    "STRING_SIZE = 30\n",
    "POPULATION_SIZE = 100\n",
    "MUTATION_RATE = 1/float(STRING_SIZE)\n",
    "CROSSOVER_RATE = 0.9\n",
    "NUM_GENERATIONS = 1000\n",
    "ELITE_FACTOR = 1/10"
   ]
  },
  {
   "cell_type": "code",
   "execution_count": null,
   "metadata": {},
   "outputs": [],
   "source": [
    "\n",
    "# One Max population function\n",
    "\n",
    "# returns a string of 0s and 1s of length size\n",
    "\n",
    "def binary_string_generator(size):\n",
    "    return ''.join(str(random.randrange(2)) for _ in range(size))"
   ]
  },
  {
   "cell_type": "markdown",
   "metadata": {},
   "source": [
    "\n",
    "### 1.1 OneMax Problem\n"
   ]
  },
  {
   "cell_type": "code",
   "execution_count": null,
   "metadata": {},
   "outputs": [],
   "source": [
    "\n",
    "# One Max fitness function\n",
    "\n",
    "# fitness is based on the number of 1's in the bitstring\n",
    "# fitness = count of 1 in bitstring\n",
    "\n",
    "def one_max_fitness(bitstring):\n",
    "    return -bitstring.count('1')"
   ]
  },
  {
   "cell_type": "markdown",
   "metadata": {},
   "source": [
    "\n",
    "### 1.2 Target String\n"
   ]
  },
  {
   "cell_type": "code",
   "execution_count": null,
   "metadata": {},
   "outputs": [],
   "source": [
    "# Target string fitness function\n",
    "\n",
    "# bitstring that we want to evolve to\n",
    "# is a string of 25 1's in a row\n",
    "# and 5 0's appended to the end\n",
    "\n",
    "target_string = '1' * 25 + '0' * 5\n",
    "print(target_string)\n",
    "\n",
    "# fitness is based on the matching of the bitstring to the target string\n",
    "# fitness is negated at the end\n",
    "\n",
    "def target_string_fitness(bitstring):\n",
    "    score = 0\n",
    "    for i in range(len(bitstring)):\n",
    "        if bitstring[i] == target_string[i]:\n",
    "            score += 1\n",
    "    return -score"
   ]
  },
  {
   "cell_type": "markdown",
   "metadata": {},
   "source": [
    "\n",
    "### 1.3 Deceptive Landscape\n"
   ]
  },
  {
   "cell_type": "code",
   "execution_count": null,
   "metadata": {},
   "outputs": [],
   "source": [
    "\n",
    "# Deceptive fitness function\n",
    "\n",
    "# global optima solution is a string of all 0's\n",
    "# but fitness function rewards occurrence of 1's\n",
    "\n",
    "def deceptive_fitness(bitstring):\n",
    "    score = 0\n",
    "    if '1' in bitstring: # if bitstring contains 1's\n",
    "        for i in range(len(bitstring)): \n",
    "            if bitstring[i] == '1':\n",
    "                score += 1 # increment score for each 1 in the bitstring\n",
    "    else:\n",
    "        score = 2*len(bitstring) # if there are no 1's, the score is 2*length of bitstring\n",
    "    return -score # negate score to maintain consistency with other fitness functions\n"
   ]
  },
  {
   "cell_type": "markdown",
   "metadata": {},
   "source": [
    "\n",
    "---\n"
   ]
  },
  {
   "cell_type": "markdown",
   "metadata": {},
   "source": [
    "\n",
    "#### Reusable Code\n"
   ]
  },
  {
   "cell_type": "code",
   "execution_count": null,
   "metadata": {},
   "outputs": [],
   "source": [
    "\n",
    "# Tournament selection function\n",
    "\n",
    "# selects k individuals from the population at random\n",
    "# returns the index of the best individual\n",
    "\n",
    "def tournament_selection(population, scores, k=3):\n",
    "    # Select k individuals from population at random\n",
    "    selection_i = random.randrange(len(population))\n",
    "    for i in [random.randrange(len(population)) for _ in range(k-1)]:\n",
    "        # Check if better (e.g. perform a tournament)\n",
    "        if scores[i] < scores[selection_i]:\n",
    "            selection_i = i\n",
    "    # Return the index of the best\n",
    "    return population[selection_i]"
   ]
  },
  {
   "cell_type": "code",
   "execution_count": null,
   "metadata": {},
   "outputs": [],
   "source": [
    "\n",
    "# Crossover function\n",
    "\n",
    "# performs crossover between two parents\n",
    "\n",
    "def crossover(parent1, parent2, crossover_rate=CROSSOVER_RATE):\n",
    "    # if random.random() >= crossover_rate:\n",
    "    #     take parent1 char i\n",
    "    # else:\n",
    "    #     take parent2 char i\n",
    "\n",
    "    child1 = ''.join([parent1[i] if random.random(\n",
    "    ) < crossover_rate else parent2[i] for i in range(len(parent1))])\n",
    "    child2 = ''.join([parent2[i] if random.random(\n",
    "    ) < crossover_rate else parent1[i] for i in range(len(parent2))])\n",
    "\n",
    "    return child1, child2"
   ]
  },
  {
   "cell_type": "code",
   "execution_count": null,
   "metadata": {},
   "outputs": [],
   "source": [
    "\n",
    "# Mutation function\n",
    "\n",
    "# performs mutation on a bitstring\n",
    "\n",
    "def mutation(bitstring, mutate_rate=MUTATION_RATE):\n",
    "    for i in range(len(bitstring)):\n",
    "        # check for mutation\n",
    "        if random.random() < mutate_rate:\n",
    "            # flips i\n",
    "            bitstring = bitstring[:i] + str(1 - int(bitstring[i])) + bitstring[i+1:]"
   ]
  },
  {
   "cell_type": "code",
   "execution_count": null,
   "metadata": {},
   "outputs": [],
   "source": [
    "\n",
    "# Elitism selection function\n",
    "\n",
    "def elite_select(population, scores, elite_factor=ELITE_FACTOR):\n",
    "    elite_size = int(len(population) * elite_factor)\n",
    "    # Sort the population based on scores in ascending order\n",
    "    sorted_population = [x for _, x in sorted(zip(scores, population))]\n",
    "\n",
    "    # Select the elite individuals\n",
    "    elite = sorted_population[:elite_size]\n",
    "\n",
    "    # Return the elite individuals\n",
    "    return elite"
   ]
  },
  {
   "cell_type": "markdown",
   "metadata": {},
   "source": [
    "---"
   ]
  },
  {
   "cell_type": "markdown",
   "metadata": {},
   "source": [
    "\n",
    "#### Algorithm\n"
   ]
  },
  {
   "cell_type": "code",
   "execution_count": null,
   "metadata": {},
   "outputs": [],
   "source": [
    "\n",
    "# Generic GA algorithm that is passed different fitness functions\n",
    "\n",
    "def algorithm(fitness, generate_population, size, generations, pop_size, cross_rate, mutate_rate, elite_factor):\n",
    "\n",
    "    # define average fitness list to plot\n",
    "    avg_fitness = []\n",
    "\n",
    "    # initial random population\n",
    "    population = [generate_population(size) for _ in range(pop_size)]\n",
    "    # debug - print size of population\n",
    "    print(\"Population size: %d\" % len(population))\n",
    "    # debug - print length of first individual\n",
    "    print(\"Individual length: %d\" % len(population[0]))\n",
    "\n",
    "    # Store temp best solution\n",
    "    best_solution, best_fitness = 0, fitness(population[0])\n",
    "\n",
    "    # Loop generations\n",
    "    for gen in range(generations):\n",
    "        # Evaluate all individuals in population\n",
    "        scores = [fitness(c) for c in population]\n",
    "        # calculate average fitness of generation\n",
    "        avg_fitness.append(sum(scores) / pop_size)\n",
    "        \n",
    "        # print best score every 100 generations\n",
    "        if gen % 100 == 0:\n",
    "            print(\"Generation %d, best score = %.3f\" % (gen, min(scores)))\n",
    "\n",
    "        # Check for new best solution\n",
    "        for i in range(pop_size):\n",
    "            if scores[i] < best_fitness:\n",
    "                best_solution, best_fitness = population[i], scores[i]\n",
    "                print(\"Generation %d, new best f(%s) = %.3f\" %\n",
    "                      (gen, population[i], scores[i]))\n",
    "\n",
    "        # Select parents to crossover\n",
    "        parents = [tournament_selection(population, scores)\n",
    "                   for _ in range(pop_size)]\n",
    "        # Create next generation\n",
    "        children = list()\n",
    "        children.extend(elite_select(population, scores, elite_factor))\n",
    "\n",
    "        for i in range(0, pop_size, 2):\n",
    "            # Get pair of parents\n",
    "            parent1, parent2 = parents[i], parents[i+1]\n",
    "            # Perform crossover\n",
    "            for child in crossover(parent1, parent2, cross_rate):\n",
    "                # Mutate child\n",
    "                mutation(child, mutate_rate)\n",
    "                # Add to next generation\n",
    "                children.append(child)\n",
    "        # Replace population\n",
    "        population = children\n",
    "\n",
    "    # plot average fitness over generations\n",
    "    plt.plot(avg_fitness)\n",
    "    plt.xlabel('Generation')\n",
    "    plt.ylabel('Average Fitness')\n",
    "    plt.show()\n",
    "    \n",
    "    return [best_solution, best_fitness]"
   ]
  },
  {
   "cell_type": "code",
   "execution_count": 290,
   "metadata": {},
   "outputs": [
    {
     "name": "stdout",
     "output_type": "stream",
     "text": [
      "One Max Problem\n",
      "Running algorithm...\n",
      "Population size: 100\n",
      "Individual length: 30\n",
      "Generation 0, best score = -21.000\n",
      "Generation 0, new best f(011100110110111001000010010100) = -14.000\n",
      "Generation 0, new best f(110000111100111101110010100100) = -16.000\n",
      "Generation 0, new best f(011100111011111110000011000111) = -18.000\n",
      "Generation 0, new best f(110101110111111100001111000111) = -20.000\n",
      "Generation 0, new best f(010111101011101111010100111111) = -21.000\n",
      "Generation 1, new best f(011111101011101111010101111111) = -23.000\n",
      "Generation 4, new best f(111010111111011111110111101110) = -24.000\n",
      "Generation 4, new best f(111110111111011111110111101110) = -25.000\n",
      "Generation 5, new best f(111110111111011111111111101110) = -26.000\n",
      "Generation 6, new best f(111011111111011111110111111111) = -27.000\n",
      "Generation 8, new best f(111111111111011111110111111111) = -28.000\n",
      "Generation 10, new best f(111110111111111111111111111111) = -29.000\n",
      "Generation 11, new best f(111111111111111111111111111111) = -30.000\n",
      "Generation 100, best score = -30.000\n",
      "Generation 200, best score = -30.000\n",
      "Generation 300, best score = -30.000\n",
      "Generation 400, best score = -30.000\n",
      "Generation 500, best score = -30.000\n",
      "Generation 600, best score = -30.000\n",
      "Generation 700, best score = -30.000\n",
      "Generation 800, best score = -30.000\n",
      "Generation 900, best score = -30.000\n"
     ]
    },
    {
     "data": {
      "image/png": "[encoded data removed]",
      "text/plain": [
       "<Figure size 640x480 with 1 Axes>"
      ]
     },
     "metadata": {},
     "output_type": "display_data"
    },
    {
     "name": "stdout",
     "output_type": "stream",
     "text": [
      "\n",
      "Best Solution for One-max: 111111111111111111111111111111 = -30.00000\n",
      "\n",
      "Target String Problem\n",
      "Running algorithm...\n",
      "Population size: 100\n",
      "Individual length: 30\n",
      "Generation 0, best score = -22.000\n",
      "Generation 0, new best f(110010101111100101101100101001) = -18.000\n",
      "Generation 0, new best f(111110100100111110111110000000) = -22.000\n",
      "Generation 2, new best f(011111111111101101111011010001) = -23.000\n",
      "Generation 4, new best f(111111110100101110111111000000) = -24.000\n",
      "Generation 5, new best f(011011111101111111111111101001) = -25.000\n",
      "Generation 5, new best f(111111110110101110111111100000) = -26.000\n",
      "Generation 6, new best f(011111111111111111111111110001) = -27.000\n",
      "Generation 7, new best f(111111111110101111111111100000) = -28.000\n",
      "Generation 9, new best f(111111111111111111111111110000) = -29.000\n",
      "Generation 11, new best f(111111111111111111111111100000) = -30.000\n",
      "Generation 100, best score = -30.000\n",
      "Generation 200, best score = -30.000\n",
      "Generation 300, best score = -30.000\n",
      "Generation 400, best score = -30.000\n",
      "Generation 500, best score = -30.000\n",
      "Generation 600, best score = -30.000\n",
      "Generation 700, best score = -30.000\n",
      "Generation 800, best score = -30.000\n",
      "Generation 900, best score = -30.000\n"
     ]
    },
    {
     "data": {
      "image/png": "[encoded data removed]",
      "text/plain": [
       "<Figure size 640x480 with 1 Axes>"
      ]
     },
     "metadata": {},
     "output_type": "display_data"
    },
    {
     "name": "stdout",
     "output_type": "stream",
     "text": [
      "\n",
      "Best Solution for Target String: 111111111111111111111111100000 = -30.00000\n",
      "\n",
      "Deceptive Problem\n",
      "Running algorithm...\n",
      "Population size: 100\n",
      "Individual length: 30\n",
      "Generation 0, best score = -22.000\n",
      "Generation 0, new best f(101111000101011111101000000111) = -17.000\n",
      "Generation 0, new best f(011011011111111101100110001000) = -18.000\n",
      "Generation 0, new best f(111011001111110111110011101000) = -20.000\n",
      "Generation 0, new best f(011111001101001110111111111110) = -22.000\n",
      "Generation 2, new best f(011111101111000110111111111110) = -23.000\n",
      "Generation 3, new best f(011111110111001110111111111110) = -24.000\n",
      "Generation 3, new best f(111111110111110111111101011111) = -26.000\n",
      "Generation 5, new best f(111111011111011110111111111111) = -27.000\n",
      "Generation 7, new best f(111111111111110111111111011111) = -28.000\n",
      "Generation 9, new best f(111111111111111111111111011111) = -29.000\n",
      "Generation 11, new best f(111111111111111111111111111111) = -30.000\n",
      "Generation 100, best score = -30.000\n",
      "Generation 200, best score = -30.000\n",
      "Generation 300, best score = -30.000\n",
      "Generation 400, best score = -30.000\n",
      "Generation 500, best score = -30.000\n",
      "Generation 600, best score = -30.000\n",
      "Generation 700, best score = -30.000\n",
      "Generation 800, best score = -30.000\n",
      "Generation 900, best score = -30.000\n"
     ]
    },
    {
     "data": {
      "image/png": "[encoded data removed]",
      "text/plain": [
       "<Figure size 640x480 with 1 Axes>"
      ]
     },
     "metadata": {},
     "output_type": "display_data"
    },
    {
     "name": "stdout",
     "output_type": "stream",
     "text": [
      "\n",
      "Best Solution for Deceptive: 111111111111111111111111111111 = -30.00000\n",
      "\n",
      "Completed operations\n"
     ]
    }
   ],
   "source": [
    "\n",
    "# Running algorithm with different fitness functions\n",
    "\n",
    "if __name__ == '__main__':\n",
    "    \n",
    "    print(\"One Max Problem\")\n",
    "    print(\"Running algorithm...\")\n",
    "    solution, score = algorithm(\n",
    "        one_max_fitness, binary_string_generator, STRING_SIZE, NUM_GENERATIONS, POPULATION_SIZE, CROSSOVER_RATE, MUTATION_RATE, ELITE_FACTOR)\n",
    "    print('\\nBest Solution for One-max: %s = %.5f' % \n",
    "          (solution, score) + \"\\n\")\n",
    "    \n",
    "    print(\"Target String Problem\")\n",
    "    print(\"Running algorithm...\")\n",
    "    solution, score = algorithm(\n",
    "        target_string_fitness, binary_string_generator, STRING_SIZE, NUM_GENERATIONS, POPULATION_SIZE, CROSSOVER_RATE, MUTATION_RATE, ELITE_FACTOR)\n",
    "    print('\\nBest Solution for Target String: %s = %.5f' %\n",
    "          (solution, score) + \"\\n\")\n",
    "    \n",
    "    print(\"Deceptive Problem\")\n",
    "    print(\"Running algorithm...\")\n",
    "    solution, score = algorithm(\n",
    "        deceptive_fitness, binary_string_generator, STRING_SIZE, NUM_GENERATIONS, POPULATION_SIZE, CROSSOVER_RATE, MUTATION_RATE, ELITE_FACTOR)\n",
    "    print('\\nBest Solution for Deceptive: %s = %.5f' %\n",
    "          (solution, score) + \"\\n\")\n",
    "    \n",
    "    \n",
    "    print(\"Completed operations\")"
   ]
  }
 ],
 "metadata": {
  "kernelspec": {
   "display_name": "Python 3",
   "language": "python",
   "name": "python3"
  },
  "language_info": {
   "codemirror_mode": {
    "name": "ipython",
    "version": 3
   },
   "file_extension": ".py",
   "mimetype": "text/x-python",
   "name": "python",
   "nbconvert_exporter": "python",
   "pygments_lexer": "ipython3",
   "version": "3.9.13"
  }
 },
 "nbformat": 4,
 "nbformat_minor": 2
}
