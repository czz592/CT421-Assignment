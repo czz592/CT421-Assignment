{
 "cells": [
  {
   "cell_type": "markdown",
   "metadata": {},
   "source": [
    "\n",
    "# CT421 Project 1  Evolutionary Search - GAs\n",
    "\n",
    "**Aoife Mulligan 20307646 | Leo Chui 20343266**  \n"
   ]
  },
  {
   "cell_type": "markdown",
   "metadata": {},
   "source": [
    "### 1.1 OneMax Problem"
   ]
  },
  {
   "cell_type": "code",
   "execution_count": 67,
   "metadata": {},
   "outputs": [],
   "source": [
    "from random import random, randrange\n",
    "\n",
    "\n",
    "# Define global variables for string size, population size, and mutation rate\n",
    "\n",
    "STRING_SIZE = 30\n",
    "POPULATION_SIZE = 100\n",
    "MUTATION_RATE = 1/STRING_SIZE\n",
    "CROSSOVER_RATE = 0.9\n",
    "NUM_GENERATIONS = 1000\n"
   ]
  },
  {
   "cell_type": "code",
   "execution_count": 68,
   "metadata": {},
   "outputs": [
    {
     "data": {
      "text/plain": [
       "'for i in range(10):\\n    print(generate_binary_string())\\n    i += 1'"
      ]
     },
     "execution_count": 68,
     "metadata": {},
     "output_type": "execute_result"
    }
   ],
   "source": [
    "'''# Generate random binary string of length 30\n",
    "\n",
    "def generate_binary_string():\n",
    "    return ''.join(rand.choice('01') for _ in range(30))\n",
    "\n",
    "population = [generate_binary_string() for _ in range(10)]\n",
    "print(population)\n",
    "'''\n",
    "\n",
    "'''for i in range(10):\n",
    "    print(generate_binary_string())\n",
    "    i += 1'''\n",
    "    \n",
    "\n"
   ]
  },
  {
   "cell_type": "code",
   "execution_count": 69,
   "metadata": {},
   "outputs": [],
   "source": [
    "# Tournament selection function\n",
    "\n",
    "def tournament_selection(population, scores, k=3):\n",
    "    # Select k individuals from population at random\n",
    "    selection_i = randrange(len(population))\n",
    "    for i in [randrange(len(population)) for _ in range(k-1)]:\n",
    "        # Check if better (e.g. perform a tournament)\n",
    "        if scores[i] > scores[selection_i]:\n",
    "            selection_i = i\n",
    "    # Return the index of the best\n",
    "    return population[selection_i]"
   ]
  },
  {
   "cell_type": "code",
   "execution_count": 75,
   "metadata": {},
   "outputs": [],
   "source": [
    "# Crossover function\n",
    "\n",
    "def crossover(parent1, parent2, CROSSOVER_RATE):\n",
    "    \n",
    "    # Create default child\n",
    "    child1, child2 = parent1[:], parent2[:]\n",
    "\n",
    "    #check for recombination\n",
    "    if random() < CROSSOVER_RATE:\n",
    "        # selecr crossover point that is not the end of the string\n",
    "        crossover_point = randrange(1, len(parent1) - 1)\n",
    "\n",
    "        child1 = parent1[:crossover_point] + parent2[crossover_point:]\n",
    "        child2 = parent2[:crossover_point] + parent1[crossover_point:]\n",
    "    return [child1, child2]\n",
    "    "
   ]
  },
  {
   "cell_type": "code",
   "execution_count": 81,
   "metadata": {},
   "outputs": [],
   "source": [
    "'''# Perform mutation\n",
    "\n",
    "def mutation(bitstring, MUTATION_RATE):\n",
    "    for i in range(len(bitstring)):\n",
    "        \n",
    "        # check for mutation\n",
    "        if random() < MUTATION_RATE:\n",
    "            bitstring[i] = 1 - int(bitstring[i])'''\n",
    "\n",
    "def mutation(bitstring, MUTATION_RATE):\n",
    "    bitlist = list(bitstring)  # Convert the binary string to a list\n",
    "    for i in range(len(bitlist)):\n",
    "        # Check for mutation\n",
    "        if random() < MUTATION_RATE:\n",
    "            # Convert the binary digit to an integer and perform mutation\n",
    "            bitlist[i] = str(1 - int(bitlist[i]))\n",
    "    \n",
    "    # Convert the list back to a string (modify in place)\n",
    "    bitstring = ''.join(bitlist)"
   ]
  },
  {
   "cell_type": "code",
   "execution_count": 78,
   "metadata": {},
   "outputs": [],
   "source": [
    "# Calculate fitness\n",
    "\n",
    "def fitness(bitstring):\n",
    "    return -sum(int(bit) for bit in bitstring)\n"
   ]
  },
  {
   "cell_type": "code",
   "execution_count": 82,
   "metadata": {},
   "outputs": [],
   "source": [
    "def algorithm(fitness, STRING_SIZE, NUM_GENERATIONS, POPULATION_SIZE, CROSSOVER_RATE, MUTATION_RATE):\n",
    "    # Initial random population\n",
    "    population = [''.join([str(randrange(2)) for _ in range(STRING_SIZE)]) for _ in range(POPULATION_SIZE)]\n",
    "    # Store best solution\n",
    "    best_solution, best_fitness = 0, fitness(population[0])\n",
    "    # Enumerate generations\n",
    "    for gen in range(NUM_GENERATIONS):\n",
    "        # Evaluate all solutions in the population\n",
    "        scores = [fitness(c) for c in population]\n",
    "        # Check for new best solution\n",
    "        for i in range(POPULATION_SIZE):\n",
    "            if scores[i] < best_fitness:\n",
    "                best_solution, best_fitness = population[i], scores[i]\n",
    "                print(\">%d, new best f(%s) = %.3f\" % (gen,  population[i], scores[i]))\n",
    "        # Select parents\n",
    "        parents = [tournament_selection(population, scores) for i in range(POPULATION_SIZE)]\n",
    "\n",
    "        # Create next generation\n",
    "        children = list()\n",
    "        for i in range(0, POPULATION_SIZE, 2):\n",
    "            # Get pair of parents\n",
    "            parent1, parent2 = parents[i], parents[i+1]\n",
    "            # Perform crossover\n",
    "            for child in crossover(parent1, parent2, CROSSOVER_RATE):\n",
    "                # Perform mutation\n",
    "                mutation(child, MUTATION_RATE)\n",
    "                # Add to next generation\n",
    "                children.append(child)\n",
    "        # Replace population\n",
    "        population = children\n",
    "    return [best_solution, best_fitness]"
   ]
  },
  {
   "cell_type": "code",
   "execution_count": 83,
   "metadata": {},
   "outputs": [
    {
     "name": "stdout",
     "output_type": "stream",
     "text": [
      ">0, new best f(110000111101110011010011110110) = -18.000\n",
      ">0, new best f(010100010111111101110011011110) = -19.000\n",
      ">0, new best f(101011010111001101111101101011) = -20.000\n",
      "Best Solution: f(101011010111001101111101101011) = -20.00000\n"
     ]
    }
   ],
   "source": [
    "# Perform the search\n",
    "\n",
    "solution, score = algorithm(fitness, STRING_SIZE, NUM_GENERATIONS, POPULATION_SIZE, CROSSOVER_RATE, MUTATION_RATE)\n",
    "print('Best Solution: f(%s) = %.5f' % (solution, score))"
   ]
  }
 ],
 "metadata": {
  "kernelspec": {
   "display_name": "Python 3",
   "language": "python",
   "name": "python3"
  },
  "language_info": {
   "codemirror_mode": {
    "name": "ipython",
    "version": 3
   },
   "file_extension": ".py",
   "mimetype": "text/x-python",
   "name": "python",
   "nbconvert_exporter": "python",
   "pygments_lexer": "ipython3",
   "version": "3.11.5"
  }
 },
 "nbformat": 4,
 "nbformat_minor": 2
}
