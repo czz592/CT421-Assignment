{
 "cells": [
  {
   "cell_type": "markdown",
   "metadata": {},
   "source": [
    "\n",
    "# CT421 Project 1  Evolutionary Search - GAs\n",
    "\n",
    "**Aoife Mulligan 20307646 | Leo Chui 20343266**  \n",
    "\n",
    "[Useful Webpage](https://machinelearningmastery.com/simple-genetic-algorithm-from-scratch-in-python/)"
   ]
  },
  {
   "cell_type": "markdown",
   "metadata": {},
   "source": [
    "### 1.1 OneMax Problem"
   ]
  },
  {
   "cell_type": "code",
   "execution_count": null,
   "metadata": {},
   "outputs": [],
   "source": [
    "import random\n",
    "\n",
    "# Define global variables for string size, population size, and mutation rate\n",
    "\n",
    "STRING_SIZE = 30\n",
    "POPULATION_SIZE = 100\n",
    "MUTATION_RATE = 1/STRING_SIZE\n"
   ]
  },
  {
   "cell_type": "code",
   "execution_count": 3,
   "metadata": {},
   "outputs": [
    {
     "name": "stdout",
     "output_type": "stream",
     "text": [
      "['110101010101001001000100101100', '101110111111001001111111011100', '101010000101010111110111100011', '101001010111000011010101010000', '100011101101001101011100101000', '100011101111111010010010000111', '000111111100001111001100001111', '011011111100001011100001001001', '000011100101010100100110100100', '001101000000011010101101001010']\n"
     ]
    },
    {
     "data": {
      "text/plain": [
       "'for i in range(10):\\n    print(generate_binary_string())\\n    i += 1'"
      ]
     },
     "execution_count": 3,
     "metadata": {},
     "output_type": "execute_result"
    }
   ],
   "source": [
    "# Generate random binary string of length 30\n",
    "\n",
    "def generate_binary_string():\n",
    "    return ''.join(random.choice('01') for _ in range(30))\n",
    "\n",
    "population = [generate_binary_string() for _ in range(10)]\n",
    "print(population)\n",
    "\n",
    "'''for i in range(10):\n",
    "    print(generate_binary_string())\n",
    "    i += 1'''\n",
    "\n"
   ]
  },
  {
   "cell_type": "code",
   "execution_count": null,
   "metadata": {},
   "outputs": [],
   "source": [
    "# Create a function which returns 999 if the list has all 1's, \n",
    "# and otherwise returns the number of 1's in the string.\n",
    "\n",
    "def fitness(ans):\n",
    "    \n",
    "    # count the number of 1's in the string\n",
    "    count = ans.count('1')\n",
    "\n",
    "    if count == 30:\n",
    "        return 999\n",
    "    else:\n",
    "        return count\n",
    "\n"
   ]
  },
  {
   "cell_type": "code",
   "execution_count": null,
   "metadata": {},
   "outputs": [],
   "source": [
    "'''scores = [fitness(entity) for entity in population]\n",
    "print(scores)'''\n",
    "\n",
    "# Evaluate population fitness and return the fittest 5 individuals\n",
    "\n",
    "def evaluate_population(population):\n",
    "    scores = [fitness(entity) for entity in population]\n",
    "    # Create pairs of scores and population, and sort by score\n",
    "    sorted_population = [x for _, x in sorted(zip(scores, population), reverse=True)]\n",
    "    # Returns the fittest 5\n",
    "    return sorted_population[:5]\n",
    "    "
   ]
  },
  {
   "cell_type": "code",
   "execution_count": null,
   "metadata": {},
   "outputs": [],
   "source": [
    "# Merge the first 5 individuals in the population to create 10 children\n",
    "\n",
    "def merge(population):\n",
    "    children = []\n",
    "    for i in range(5):\n",
    "        # Merge the first half of the first individual with the second half of the second individual\n",
    "        children.append(population[i] + population[i+1])\n",
    "    return children"
   ]
  },
  {
   "cell_type": "code",
   "execution_count": null,
   "metadata": {},
   "outputs": [],
   "source": [
    "# Randomly mutate each bit in each child with probability MUTATION_RATE\n",
    "\n",
    "def mutate(children):\n",
    "    mutated_children = []\n",
    "    for child in children:\n",
    "        mutated_child = ''\n",
    "        for bit in child:\n",
    "            if random.random() < MUTATION_RATE:\n",
    "                mutated_child += str(1 - int(bit))\n",
    "            else:\n",
    "                mutated_child += bit\n",
    "        mutated_children.append(mutated_child)\n",
    "    return mutated_children"
   ]
  }
 ],
 "metadata": {
  "kernelspec": {
   "display_name": "Python 3",
   "language": "python",
   "name": "python3"
  },
  "language_info": {
   "codemirror_mode": {
    "name": "ipython",
    "version": 3
   },
   "file_extension": ".py",
   "mimetype": "text/x-python",
   "name": "python",
   "nbconvert_exporter": "python",
   "pygments_lexer": "ipython3",
   "version": "3.11.5"
  }
 },
 "nbformat": 4,
 "nbformat_minor": 2
}
