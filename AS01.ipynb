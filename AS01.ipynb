{
 "cells": [
  {
   "cell_type": "markdown",
   "metadata": {},
   "source": [
    "\n",
    "# CT421 Project 1  Evolutionary Search - GAs\n",
    "\n",
    "**Aoife Mulligan 20307646 | Leo Chui 20343266**  \n"
   ]
  },
  {
   "cell_type": "markdown",
   "metadata": {},
   "source": [
    "\n",
    "# Part A\n"
   ]
  },
  {
   "cell_type": "code",
   "execution_count": null,
   "metadata": {},
   "outputs": [],
   "source": [
    "import matplotlib.pyplot as plt\n",
    "import random\n",
    "\n",
    "# Define global variables for string size, population size, and mutation rate\n",
    "\n",
    "STRING_SIZE = 30\n",
    "POPULATION_SIZE = 100\n",
    "MUTATION_RATE = 1/float(STRING_SIZE)\n",
    "CROSSOVER_RATE = 0.9\n",
    "NUM_GENERATIONS = 1000\n",
    "ELITE_FACTOR = 1/10"
   ]
  },
  {
   "cell_type": "code",
   "execution_count": null,
   "metadata": {},
   "outputs": [],
   "source": [
    "\n",
    "# One Max population function\n",
    "\n",
    "# returns a string of 0s and 1s of length size\n",
    "\n",
    "def binary_string_generator(size):\n",
    "    return ''.join(str(random.randrange(2)) for _ in range(size))"
   ]
  },
  {
   "cell_type": "markdown",
   "metadata": {},
   "source": [
    "\n",
    "### 1.1 OneMax Problem\n"
   ]
  },
  {
   "cell_type": "code",
   "execution_count": null,
   "metadata": {},
   "outputs": [],
   "source": [
    "\n",
    "# One Max fitness function\n",
    "\n",
    "# fitness is based on the number of 1's in the bitstring\n",
    "# fitness = count of 1 in bitstring\n",
    "\n",
    "def one_max_fitness(bitstring):\n",
    "    return -bitstring.count('1')"
   ]
  },
  {
   "cell_type": "markdown",
   "metadata": {},
   "source": [
    "\n",
    "### 1.2 Target String\n"
   ]
  },
  {
   "cell_type": "code",
   "execution_count": null,
   "metadata": {},
   "outputs": [],
   "source": [
    "# Target string fitness function\n",
    "\n",
    "# bitstring that we want to evolve to\n",
    "# is a string of 25 1's in a row\n",
    "# and 5 0's appended to the end\n",
    "\n",
    "target_string = '1' * 25 + '0' * 5\n",
    "print(target_string)\n",
    "\n",
    "# fitness is based on the matching of the bitstring to the target string\n",
    "# fitness is negated at the end\n",
    "\n",
    "def target_string_fitness(bitstring):\n",
    "    score = 0\n",
    "    for i in range(len(bitstring)):\n",
    "        if bitstring[i] == target_string[i]:\n",
    "            score += 1\n",
    "    return -score"
   ]
  },
  {
   "cell_type": "markdown",
   "metadata": {},
   "source": [
    "\n",
    "### 1.3 Deceptive Landscape\n"
   ]
  },
  {
   "cell_type": "code",
   "execution_count": null,
   "metadata": {},
   "outputs": [],
   "source": [
    "\n",
    "# Deceptive fitness function\n",
    "\n",
    "# global optima solution is a string of all 0's\n",
    "# but fitness function rewards occurrence of 1's\n",
    "\n",
    "def deceptive_fitness(bitstring):\n",
    "    score = 0\n",
    "    if '1' in bitstring: # if bitstring contains 1's\n",
    "        for i in range(len(bitstring)): \n",
    "            if bitstring[i] == '1':\n",
    "                score += 1 # increment score for each 1 in the bitstring\n",
    "    else:\n",
    "        score = 2*len(bitstring) # if there are no 1's, the score is 2*length of bitstring\n",
    "    return -score # negate score to maintain consistency with other fitness functions\n"
   ]
  },
  {
   "cell_type": "markdown",
   "metadata": {},
   "source": [
    "\n",
    "### 2 Bin-packing\n"
   ]
  },
  {
   "cell_type": "code",
   "execution_count": null,
   "metadata": {},
   "outputs": [],
   "source": [
    "\n",
    "import math\n",
    "\n",
    "# weights is a map of weights to number of items with that weight\n",
    "# calculate optimal number of bins\n",
    "\n",
    "def optimal_bin_count(weights, capacity):\n",
    "    sum_weight = 0\n",
    "    for weight in weights:\n",
    "        sum_weight += weight * weights[weight]\n",
    "    return math.ceil(sum_weight / capacity)\n",
    "\n",
    "# bin-packing fitness function\n",
    "# calculates fitness by dividing optimal number of bins by number of bins used\n",
    "# and multiplying by 100 for percentage\n",
    "\n",
    "def bpp_fitness(optimal_bins, bins):\n",
    "    return bins / optimal_bins * 100"
   ]
  },
  {
   "cell_type": "markdown",
   "metadata": {},
   "source": [
    "\n",
    "---\n"
   ]
  },
  {
   "cell_type": "markdown",
   "metadata": {},
   "source": [
    "\n",
    "#### Reusable Code\n"
   ]
  },
  {
   "cell_type": "code",
   "execution_count": null,
   "metadata": {},
   "outputs": [],
   "source": [
    "\n",
    "# Tournament selection function\n",
    "\n",
    "# selects k individuals from the population at random\n",
    "# returns the index of the best individual\n",
    "\n",
    "def tournament_selection(population, scores, k=3):\n",
    "    # Select k individuals from population at random\n",
    "    selection_i = random.randrange(len(population))\n",
    "    for i in [random.randrange(len(population)) for _ in range(k-1)]:\n",
    "        # Check if better (e.g. perform a tournament)\n",
    "        if scores[i] < scores[selection_i]:\n",
    "            selection_i = i\n",
    "    # Return the index of the best\n",
    "    return population[selection_i]"
   ]
  },
  {
   "cell_type": "code",
   "execution_count": null,
   "metadata": {},
   "outputs": [],
   "source": [
    "\n",
    "# Crossover function\n",
    "\n",
    "# performs crossover between two parents\n",
    "\n",
    "def bin_string_crossover(parent1, parent2, crossover_rate=CROSSOVER_RATE):\n",
    "    # if random.random() >= crossover_rate:\n",
    "    #     take parent1 char i\n",
    "    # else:\n",
    "    #     take parent2 char i\n",
    "\n",
    "    child1 = ''.join([parent1[i] if random.random(\n",
    "    ) < crossover_rate else parent2[i] for i in range(len(parent1))])\n",
    "    child2 = ''.join([parent2[i] if random.random(\n",
    "    ) < crossover_rate else parent1[i] for i in range(len(parent2))])\n",
    "\n",
    "    return child1, child2"
   ]
  },
  {
   "cell_type": "code",
   "execution_count": null,
   "metadata": {},
   "outputs": [],
   "source": [
    "\n",
    "# Mutation function\n",
    "\n",
    "# performs mutation on a bitstring\n",
    "\n",
    "def bin_string_mutation(bitstring, mutate_rate=MUTATION_RATE):\n",
    "    for i in range(len(bitstring)):\n",
    "        # check for mutation\n",
    "        if random.random() < mutate_rate:\n",
    "            # flips i\n",
    "            bitstring = bitstring[:i] + str(1 - int(bitstring[i])) + bitstring[i+1:]"
   ]
  },
  {
   "cell_type": "code",
   "execution_count": null,
   "metadata": {},
   "outputs": [],
   "source": [
    "\n",
    "# Elitism selection function\n",
    "\n",
    "def elite_select(population, scores, elite_factor=ELITE_FACTOR):\n",
    "    elite_size = int(len(population) * elite_factor)\n",
    "    # Sort the population based on scores in ascending order\n",
    "    sorted_population = [x for _, x in sorted(zip(scores, population))]\n",
    "\n",
    "    # Select the elite individuals\n",
    "    elite = sorted_population[:elite_size]\n",
    "\n",
    "    # Return the elite individuals\n",
    "    return elite"
   ]
  },
  {
   "cell_type": "markdown",
   "metadata": {},
   "source": [
    "---"
   ]
  },
  {
   "cell_type": "markdown",
   "metadata": {},
   "source": [
    "\n",
    "#### Read Problem File\n"
   ]
  },
  {
   "cell_type": "code",
   "execution_count": 18,
   "metadata": {},
   "outputs": [
    {
     "name": "stdout",
     "output_type": "stream",
     "text": [
      "[{200: 3, 199: 1, 198: 2, 197: 2, 194: 2, 193: 1, 192: 1, 191: 3, 190: 2, 189: 1, 188: 2, 187: 2, 186: 1, 185: 4, 184: 3, 183: 3, 182: 3, 181: 2, 180: 1, 179: 4, 178: 1, 177: 4, 175: 1, 174: 1, 173: 2, 172: 1, 171: 3, 170: 2, 169: 3, 167: 2, 165: 2, 164: 1, 163: 4, 162: 1, 161: 1, 160: 2, 159: 1, 158: 3, 157: 1, 156: 6, 155: 3, 154: 2, 153: 1, 152: 3, 151: 2, 150: 4}, {200: 2, 199: 4, 198: 1, 197: 1, 196: 2, 195: 2, 194: 2, 193: 1, 191: 2, 190: 1, 189: 2, 188: 1, 187: 2, 186: 1, 185: 2, 184: 5, 183: 1, 182: 1, 181: 3, 180: 2, 179: 2, 178: 1, 176: 1, 175: 2, 174: 5, 173: 1, 172: 3, 171: 1, 170: 4, 169: 2, 168: 1, 167: 5, 165: 2, 164: 2, 163: 3, 162: 2, 160: 2, 159: 2, 158: 2, 157: 4, 156: 3, 155: 2, 154: 1, 153: 3, 152: 2, 151: 2, 150: 2}, {200: 1, 199: 2, 197: 2, 196: 2, 193: 3, 192: 2, 191: 2, 190: 2, 189: 3, 188: 1, 187: 1, 185: 3, 183: 2, 182: 1, 181: 3, 180: 3, 179: 3, 178: 1, 177: 5, 176: 2, 175: 5, 174: 4, 173: 1, 171: 3, 170: 1, 169: 2, 168: 5, 167: 1, 166: 4, 165: 2, 163: 1, 162: 2, 161: 2, 160: 3, 159: 2, 158: 2, 157: 1, 156: 3, 155: 3, 154: 1, 153: 2, 152: 3, 151: 2, 150: 1}, {200: 3, 199: 5, 198: 4, 197: 1, 195: 1, 193: 4, 192: 1, 188: 1, 187: 1, 186: 3, 185: 3, 184: 2, 183: 2, 182: 1, 181: 1, 180: 3, 179: 2, 178: 6, 177: 2, 176: 4, 175: 1, 173: 4, 172: 4, 170: 1, 169: 3, 168: 4, 167: 1, 165: 3, 164: 1, 163: 2, 162: 4, 161: 1, 160: 3, 159: 3, 158: 1, 157: 3, 155: 2, 154: 3, 153: 1, 152: 3, 151: 1, 150: 1}, {200: 5, 199: 2, 198: 2, 197: 2, 196: 1, 195: 3, 194: 2, 193: 2, 192: 4, 191: 2, 190: 4, 188: 3, 187: 2, 186: 2, 185: 1, 184: 1, 183: 1, 182: 1, 181: 3, 180: 1, 178: 3, 177: 2, 176: 2, 174: 1, 173: 1, 172: 1, 171: 3, 168: 2, 167: 1, 165: 1, 164: 1, 163: 1, 162: 3, 161: 3, 160: 3, 159: 2, 158: 3, 157: 3, 156: 2, 155: 5, 154: 3, 153: 3, 151: 5, 150: 2}]\n",
      "[1000, 1000, 1000, 1000, 1000]\n",
      "[46, 47, 44, 42, 44]\n"
     ]
    }
   ],
   "source": [
    "# open binpacking.txt\n",
    "\n",
    "with open(\"Binpacking.txt\", \"r\") as file:\n",
    "    lines = file.readlines()\n",
    "\n",
    "\n",
    "for _ in range(17):\n",
    "    # removes till 'BPP      1'\n",
    "    lines.pop(0)\n",
    "\n",
    "# from here, text file repeats in pattern\n",
    "# BPP      i\n",
    "# number of different weights\n",
    "# capacity of bin\n",
    "# weight          number of items (repeats number of different weights times)\n",
    "\n",
    "num_weights = []\n",
    "capacities = []\n",
    "item_weights = []\n",
    "\n",
    "# loop through 5 BPP scenarios\n",
    "for i in range(5):\n",
    "    # remove seperator BPP i\n",
    "    lines.pop(0)\n",
    "\n",
    "    # saves number of different weights\n",
    "    # and capacity of bin\n",
    "    num_weights.append(int(lines.pop(0)))\n",
    "    capacities.append(int(lines.pop(0)))\n",
    "\n",
    "    # make new map for BPP scenario i\n",
    "    item_weights.append({})\n",
    "    # loop through number of different weights\n",
    "    for j in range(num_weights[i]):\n",
    "        # split line into weight and number of items with weight\n",
    "        line = lines.pop(0).split()\n",
    "        # map weight to number of items with weight\n",
    "        item_weights[i][int(line[0])] = int(line[1])\n",
    "\n",
    "# close file, idk if this is needed\n",
    "file.close()\n",
    "\n",
    "# debug print for sanity check\n",
    "# cuz im going insane\n",
    "print(item_weights)\n",
    "print(capacities)\n",
    "print(num_weights)"
   ]
  },
  {
   "cell_type": "markdown",
   "metadata": {},
   "source": [
    "\n",
    "#### Algorithm\n"
   ]
  },
  {
   "cell_type": "code",
   "execution_count": 17,
   "metadata": {},
   "outputs": [],
   "source": [
    "\n",
    "# Generic GA algorithm that is passed different functions\n",
    "\n",
    "def algorithm(fitness, generate_population, crossover, mutation, size, generations, pop_size, cross_rate, mutate_rate, elite_factor, converge_gen=100):\n",
    "\n",
    "    # define average fitness list to plot\n",
    "    avg_fitness = []\n",
    "\n",
    "    # initial random population\n",
    "    population = [generate_population(size) for _ in range(pop_size)]\n",
    "    # debug - print size of population\n",
    "    print(\"Population size: %d\" % len(population))\n",
    "    # debug - print length of first individual\n",
    "    print(\"Individual length: %d\" % len(population[0]))\n",
    "\n",
    "    # Store temp best solution\n",
    "    best_solution, best_fitness = 0, fitness(population[0])\n",
    "\n",
    "    # Loop generations\n",
    "    for gen in range(generations):\n",
    "        # Evaluate all individuals in population\n",
    "        scores = [fitness(c) for c in population]\n",
    "        # calculate average fitness of generation\n",
    "        avg_fitness.append(sum(scores) / pop_size)\n",
    "        \n",
    "        # if there are enough generations to check for convergence\n",
    "        if gen >= converge_gen:\n",
    "            last_n_avg_fitnesses = avg_fitness[gen-converge_gen:gen]\n",
    "            # exit on convergence\n",
    "            if last_n_avg_fitnesses.count(last_n_avg_fitnesses[0]) == converge_gen:\n",
    "                print(\"Converged at generation %d\" % gen)\n",
    "                break\n",
    "        \n",
    "        # print best score every 100 generations\n",
    "        if gen % 100 == 0:\n",
    "            print(\"Generation %d, best score = %.3f, average fitness = %.3f\" % (gen, min(scores), avg_fitness[gen]))\n",
    "\n",
    "        # Check for new best solution\n",
    "        for i in range(pop_size):\n",
    "            if scores[i] < best_fitness:\n",
    "                best_solution, best_fitness = population[i], scores[i]\n",
    "                print(\"Generation %d, new best f(%s) = %.3f\" %\n",
    "                      (gen, population[i], scores[i]))\n",
    "\n",
    "        # Select parents to crossover\n",
    "        parents = [tournament_selection(population, scores)\n",
    "                   for _ in range(pop_size)]\n",
    "        # Create next generation\n",
    "        children = list()\n",
    "        children.extend(elite_select(population, scores, elite_factor))\n",
    "\n",
    "        for i in range(0, pop_size, 2):\n",
    "            # Get pair of parents\n",
    "            parent1, parent2 = parents[i], parents[i+1]\n",
    "            # Perform crossover\n",
    "            for child in crossover(parent1, parent2, cross_rate):\n",
    "                # Mutate child\n",
    "                mutation(child, mutate_rate)\n",
    "                # Add to next generation\n",
    "                children.append(child)\n",
    "        # Replace population\n",
    "        population = children\n",
    "\n",
    "    # plot average fitness over generations\n",
    "    plt.plot(avg_fitness)\n",
    "    plt.xlabel('Generation')\n",
    "    plt.ylabel('Average Fitness')\n",
    "    plt.show()\n",
    "    \n",
    "    return [best_solution, best_fitness]"
   ]
  },
  {
   "cell_type": "code",
   "execution_count": null,
   "metadata": {},
   "outputs": [],
   "source": [
    "\n",
    "# Running algorithm with different fitness functions\n",
    "\n",
    "if __name__ == '__main__':\n",
    "    \"\"\"\n",
    "    print(\"One Max Problem\")\n",
    "    print(\"Running algorithm...\")\n",
    "    solution, score = algorithm(\n",
    "        one_max_fitness, binary_string_generator, bin_string_crossover, bin_string_mutation, STRING_SIZE, NUM_GENERATIONS, POPULATION_SIZE, CROSSOVER_RATE, MUTATION_RATE, ELITE_FACTOR)\n",
    "    print('\\nBest Solution for One-max: %s = %.5f' % \n",
    "          (solution, score) + \"\\n\")\n",
    "    \n",
    "    print(\"Target String Problem\")\n",
    "    print(\"Running algorithm...\")\n",
    "    solution, score = algorithm(\n",
    "        target_string_fitness, binary_string_generator, bin_string_crossover, bin_string_mutation, STRING_SIZE, NUM_GENERATIONS, POPULATION_SIZE, CROSSOVER_RATE, MUTATION_RATE, ELITE_FACTOR)\n",
    "    print('\\nBest Solution for Target String: %s = %.5f' %\n",
    "          (solution, score) + \"\\n\")\n",
    "    \n",
    "    print(\"Deceptive Problem\")\n",
    "    print(\"Running algorithm...\")\n",
    "    solution, score = algorithm(\n",
    "        deceptive_fitness, binary_string_generator, bin_string_crossover, bin_string_mutation, STRING_SIZE, NUM_GENERATIONS, POPULATION_SIZE, CROSSOVER_RATE, MUTATION_RATE, ELITE_FACTOR)\n",
    "    print('\\nBest Solution for Deceptive: %s = %.5f' %\n",
    "          (solution, score) + \"\\n\")\n",
    "    \"\"\"\n",
    "    \n",
    "    print(\"BPP - 1\")\n",
    "    print(\"Running algorithm...\")\n",
    "    # TODO: write population generation function\n",
    "    solution, score = algorithm(\n",
    "        bpp_fitness, binary_string_generator, STRING_SIZE, NUM_GENERATIONS, POPULATION_SIZE, CROSSOVER_RATE, MUTATION_RATE, ELITE_FACTOR)\n",
    "    \n",
    "    print(\"Completed operations\")"
   ]
  }
 ],
 "metadata": {
  "kernelspec": {
   "display_name": "Python 3",
   "language": "python",
   "name": "python3"
  },
  "language_info": {
   "codemirror_mode": {
    "name": "ipython",
    "version": 3
   },
   "file_extension": ".py",
   "mimetype": "text/x-python",
   "name": "python",
   "nbconvert_exporter": "python",
   "pygments_lexer": "ipython3",
   "version": "3.9.13"
  }
 },
 "nbformat": 4,
 "nbformat_minor": 2
}
