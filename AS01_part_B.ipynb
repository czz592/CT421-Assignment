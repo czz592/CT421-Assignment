{
 "cells": [
  {
   "cell_type": "markdown",
   "metadata": {},
   "source": [
    "\n",
    "# CT421 Project 1  Evolutionary Search - GAs\n",
    "\n",
    "**Aoife Mulligan 20307646 | Leo Chui 20343266**  \n"
   ]
  },
  {
   "cell_type": "markdown",
   "metadata": {},
   "source": [
    "\n",
    "# Part B\n"
   ]
  },
  {
   "cell_type": "markdown",
   "metadata": {},
   "source": [
    "\n",
    "## Representation\n",
    "\n",
    "- Individuals are lists of binary strings\n",
    "- Each string represents a bin, and all strings are of length $n$, the number of items\n",
    "- 0 means that the item is not in current bin, and 1 means the item is in current bin\n",
    "- length of list would be Number of bins\n",
    "- also have an array which stores weights\n",
    "  - e.g. for bin: \\[10*1*01\\], we can get the italicised 1's weight by getting the weight at the 2nd index in the weights array\n",
    "   \n",
    "\n",
    "## Uncertain parts\n",
    "\n",
    "- Not sure how to maintain constraint on individuals after crossover and/or mutation\n",
    "  - A repair function could be introduced \n",
    "  - Or implement a constraint check\n",
    "  - Allow (discourage / punish via fitness function) <- Most suitable, least to no heuristics introduced\n",
    "  \n",
    "### Recommended Testing bits\n",
    "\n",
    "- If implementing a repair function, change algorithm so that it can take a repair function, and compare performance with non-repair counterpart\n",
    "\n",
    "### Miscellaneous bits\n",
    "\n",
    "- Lower bound or higher bound bins? how could they be used for the fitness function? current fitness function calculates the ratio between solution_num_bins and optimal bins (lower bound)\n",
    "- Less heuristics could be a way to look at it\n",
    "\n",
    "### Aoife's Notes\n",
    "\n",
    "Mutation swapping seems like the only way to do mutation - as in, the nature of the problem means we can't mutate without swapping.\n",
    "E.G. if n = 4 and two of our bins are: \\[1100\\] and \\[0011\\], we want to mutate only one chromosome. The first chromosome gets selected, so we flip the bit. Then we would have \\[0100\\] and \\[0011\\], but now the first item is not in a bin. We either must create an extra bin to place the first item (which seems crazy but I guess we could try), or we flip the corresponding bit in bin 2, so that the item is now in the other bin.\n",
    "\n",
    "The only difference between this basic example and our implementation is that our implementation will have many bins, and so when we want to swap a bit, we should randomly select the bin for it to be swapped to.\n",
    "\n"
   ]
  },
  {
   "cell_type": "markdown",
   "metadata": {},
   "source": [
    "\n",
    "# Part B\n"
   ]
  },
  {
   "cell_type": "markdown",
   "metadata": {},
   "source": [
    "\n",
    "#### Read Problem File\n"
   ]
  },
  {
   "cell_type": "code",
   "execution_count": 46,
   "metadata": {},
   "outputs": [
    {
     "name": "stdout",
     "output_type": "stream",
     "text": [
      "[[200, 200, 200, 199, 198, 198, 197, 197, 194, 194, 193, 192, 191, 191, 191, 190, 190, 189, 188, 188, 187, 187, 186, 185, 185, 185, 185, 184, 184, 184, 183, 183, 183, 182, 182, 182, 181, 181, 180, 179, 179, 179, 179, 178, 177, 177, 177, 177, 175, 174, 173, 173, 172, 171, 171, 171, 170, 170, 169, 169, 169, 167, 167, 165, 165, 164, 163, 163, 163, 163, 162, 161, 160, 160, 159, 158, 158, 158, 157, 156, 156, 156, 156, 156, 156, 155, 155, 155, 154, 154, 153, 152, 152, 152, 151, 151, 150, 150, 150, 150], [200, 200, 199, 199, 199, 199, 198, 197, 196, 196, 195, 195, 194, 194, 193, 191, 191, 190, 189, 189, 188, 187, 187, 186, 185, 185, 184, 184, 184, 184, 184, 183, 182, 181, 181, 181, 180, 180, 179, 179, 178, 176, 175, 175, 174, 174, 174, 174, 174, 173, 172, 172, 172, 171, 170, 170, 170, 170, 169, 169, 168, 167, 167, 167, 167, 167, 165, 165, 164, 164, 163, 163, 163, 162, 162, 160, 160, 159, 159, 158, 158, 157, 157, 157, 157, 156, 156, 156, 155, 155, 154, 153, 153, 153, 152, 152, 151, 151, 150, 150], [200, 199, 199, 197, 197, 196, 196, 193, 193, 193, 192, 192, 191, 191, 190, 190, 189, 189, 189, 188, 187, 185, 185, 185, 183, 183, 182, 181, 181, 181, 180, 180, 180, 179, 179, 179, 178, 177, 177, 177, 177, 177, 176, 176, 175, 175, 175, 175, 175, 174, 174, 174, 174, 173, 171, 171, 171, 170, 169, 169, 168, 168, 168, 168, 168, 167, 166, 166, 166, 166, 165, 165, 163, 162, 162, 161, 161, 160, 160, 160, 159, 159, 158, 158, 157, 156, 156, 156, 155, 155, 155, 154, 153, 153, 152, 152, 152, 151, 151, 150], [200, 200, 200, 199, 199, 199, 199, 199, 198, 198, 198, 198, 197, 195, 193, 193, 193, 193, 192, 188, 187, 186, 186, 186, 185, 185, 185, 184, 184, 183, 183, 182, 181, 180, 180, 180, 179, 179, 178, 178, 178, 178, 178, 178, 177, 177, 176, 176, 176, 176, 175, 173, 173, 173, 173, 172, 172, 172, 172, 170, 169, 169, 169, 168, 168, 168, 168, 167, 165, 165, 165, 164, 163, 163, 162, 162, 162, 162, 161, 160, 160, 160, 159, 159, 159, 158, 157, 157, 157, 155, 155, 154, 154, 154, 153, 152, 152, 152, 151, 150], [200, 200, 200, 200, 200, 199, 199, 198, 198, 197, 197, 196, 195, 195, 195, 194, 194, 193, 193, 192, 192, 192, 192, 191, 191, 190, 190, 190, 190, 188, 188, 188, 187, 187, 186, 186, 185, 184, 183, 182, 181, 181, 181, 180, 178, 178, 178, 177, 177, 176, 176, 174, 173, 172, 171, 171, 171, 168, 168, 167, 165, 164, 163, 162, 162, 162, 161, 161, 161, 160, 160, 160, 159, 159, 158, 158, 158, 157, 157, 157, 156, 156, 155, 155, 155, 155, 155, 154, 154, 154, 153, 153, 153, 151, 151, 151, 151, 151, 150, 150]]\n",
      "[1000, 1000, 1000, 1000, 1000]\n",
      "[46, 47, 44, 42, 44]\n"
     ]
    }
   ],
   "source": [
    "# read problem file to get items and weights\n",
    "# open binpacking.txt\n",
    "\n",
    "with open(\"Binpacking.txt\", \"r\") as file:\n",
    "    lines = file.readlines()\n",
    "\n",
    "\n",
    "for _ in range(17):\n",
    "    # removes till 'BPP      1'\n",
    "    lines.pop(0)\n",
    "\n",
    "# from here, text file repeats in pattern\n",
    "# BPP      i\n",
    "# number of different weights\n",
    "# capacity of bin\n",
    "# weight          number of items (repeats number of different weights times)\n",
    "\n",
    "CAPACITIES = []\n",
    "ITEM_WEIGHTS = []\n",
    "\n",
    "# loop through 5 BPP scenarios\n",
    "for i in range(5):\n",
    "    # remove seperator BPP i\n",
    "    lines.pop(0)\n",
    "\n",
    "    # saves number of different weights\n",
    "    # and capacity of bin\n",
    "    num_weights = int(lines.pop(0))\n",
    "    CAPACITIES.append(int(lines.pop(0)))\n",
    "\n",
    "    # make new map for BPP scenario i\n",
    "    ITEM_WEIGHTS.append([]) # append []\n",
    "    # loop through number of different weights\n",
    "    for j in range(num_weights):\n",
    "        # split line into weight and number of items with weight\n",
    "        line = lines.pop(0).split()\n",
    "\n",
    "        # for each item of weight W, append W to weights[i] n times\n",
    "        # n being the number of items with weight W, at line[1]\n",
    "        for _ in range(int(line[1])):\n",
    "            ITEM_WEIGHTS[i].append(int(line[0]))\n",
    "\n",
    "        # map weight to number of items with weight\n",
    "        # item_weights[i][int(line[0])] = int(line[1])\n",
    "\n",
    "# close file, idk if this is needed\n",
    "file.close()\n",
    "\n",
    "# debug print for sanity check\n",
    "# cuz im going insane\n",
    "print(ITEM_WEIGHTS)\n",
    "print(CAPACITIES)\n"
   ]
  },
  {
   "cell_type": "code",
   "execution_count": 47,
   "metadata": {},
   "outputs": [],
   "source": [
    "import matplotlib.pyplot as plt\n",
    "import random\n",
    "import math\n",
    "\n",
    "CROSSOVER_RATE = 0.9\n",
    "POPULATION = 100\n",
    "NUM_GENERATIONS = 1000\n",
    "ELITE_FACTOR = 0.1\n"
   ]
  },
  {
   "cell_type": "code",
   "execution_count": 48,
   "metadata": {},
   "outputs": [],
   "source": [
    "# helper function to calculate bin weights\n",
    "\n",
    "def bin_sum_weight(bin, item_weights):\n",
    "    sum_weight = 0\n",
    "    for i in range(len(bin)):\n",
    "        if int(bin[i]) == 1:\n",
    "            sum_weight += item_weights[i]\n",
    "    return sum_weight"
   ]
  },
  {
   "cell_type": "markdown",
   "metadata": {},
   "source": [
    "\n",
    "### Fitness Function and optimum bin amount calc\n"
   ]
  },
  {
   "cell_type": "code",
   "execution_count": 49,
   "metadata": {},
   "outputs": [],
   "source": [
    "# weights is a map of weights to number of items with that weight\n",
    "# calculate optimal number of bins\n",
    "\n",
    "def optimal_bin_count(weights, capacity):\n",
    "    sum_weight = 0\n",
    "    for weight in weights:\n",
    "        sum_weight += weight\n",
    "    return math.ceil(sum_weight / capacity)\n",
    "\n",
    "# bin-packing fitness function\n",
    "# calculates fitness by dividing optimal number of bins by number of bins used\n",
    "# and multiplying by 100 for percentage\n",
    "\n",
    "def bin_ratio_fitness(optimal_bins, bins):\n",
    "    return bins / optimal_bins * 100\n",
    "\n",
    "# bin-packing fitness function alternative\n",
    "# calculates fitness by determining error for each bin\n",
    "# actual bin weight - capacity\n",
    "# perfect bin = 0\n",
    "\n",
    "def capacity_error_fitness(bin, item_weights, capacity=1000):\n",
    "    sum_weight = bin_sum_weight(bin, item_weights)\n",
    "    error = (sum_weight - capacity) ** 2\n",
    "    return error"
   ]
  },
  {
   "cell_type": "code",
   "execution_count": 50,
   "metadata": {},
   "outputs": [],
   "source": [
    "# Tournament selection function\n",
    "\n",
    "# selects k individuals from the population at random\n",
    "# returns the index of the best individual\n",
    "\n",
    "def tournament_selection(population, scores, k=3):\n",
    "    # Select k individuals from population at random\n",
    "    selection_i = random.randrange(len(population))\n",
    "    for i in [random.randrange(len(population)) for _ in range(k-1)]:\n",
    "        # Check if better (e.g. perform a tournament)\n",
    "        if scores[i] < scores[selection_i]:\n",
    "            selection_i = i\n",
    "    # Return the index of the best\n",
    "    return population[selection_i]\n"
   ]
  },
  {
   "cell_type": "code",
   "execution_count": 51,
   "metadata": {},
   "outputs": [],
   "source": [
    "# mutation function\n",
    "# each item has a 1/n chance of being mutated\n",
    "# if mutated, item is swapped with another item\n",
    "\n",
    "def mutate(bins, mutation_rate=None):\n",
    "    if mutation_rate is None:\n",
    "        mutation_rate = 1/float(len(bins))\n",
    "    # choose a random bin from bins\n",
    "    bin1 = random.choice(bins)\n",
    "    # choose a random item from the bin\n",
    "    for i in range(len(bin1)):\n",
    "        if random.random() < mutation_rate:\n",
    "            # swap item in the bin with a corresponding item from another bin\n",
    "            # flip the current bit in the string\n",
    "            bin2 = random.choice(bins)\n",
    "            # first check bin1 != bin2\n",
    "            # second check that bin2[i] does not equal bin1[i]\n",
    "            if bin1 != bin2 and bin2[i] != bin1[i]:\n",
    "                # swap the item with a corresponding item from another bin\n",
    "                bin1 = bin1[:i] + str(int(bin1[i]) ^ 1) + bin1[i+1:]\n",
    "                bin2 = bin2[:i] + str(int(bin2[i]) ^ 1) + bin2[i+1:]\n",
    "    return bins"
   ]
  },
  {
   "cell_type": "code",
   "execution_count": 52,
   "metadata": {},
   "outputs": [],
   "source": [
    "# TODO: crossover function\n"
   ]
  },
  {
   "cell_type": "code",
   "execution_count": 53,
   "metadata": {},
   "outputs": [],
   "source": [
    "# elitism function\n",
    "\n",
    "def elite_select(population, scores, elite_factor=ELITE_FACTOR):\n",
    "    elite_size = int(len(population) * elite_factor)\n",
    "    # Sort the population based on scores in ascending order\n",
    "    sorted_population = [x for _, x in sorted(zip(scores, population))]\n",
    "\n",
    "    # Select the elite individuals\n",
    "    elite = sorted_population[:elite_size]\n",
    "\n",
    "    # Return the elite individuals\n",
    "    return elite\n"
   ]
  },
  {
   "cell_type": "code",
   "execution_count": 54,
   "metadata": {},
   "outputs": [],
   "source": [
    "# BPP population generation function\n",
    "\n",
    "def generate_population(item_weights, population_size=POPULATION):\n",
    "    population = []\n",
    "    for i in range(population_size):\n",
    "        individual = []\n",
    "        individual.append([])\n",
    "        for j in range(item_weights):\n",
    "            # randomly generate a binary string of length num_weights\n",
    "            individual[i].append(random.randint(0, 1))\n",
    "            # make sure no strings in individual contains the same item\n",
    "            \n",
    "        \n",
    "        population.append(individual)\n",
    "    return population"
   ]
  },
  {
   "cell_type": "markdown",
   "metadata": {},
   "source": [
    "\n",
    "### Algorithm\n"
   ]
  },
  {
   "cell_type": "code",
   "execution_count": 55,
   "metadata": {},
   "outputs": [],
   "source": [
    "\n",
    "# change algorithm so that crossover is only performed if the function is passed in\n",
    "\n",
    "# Generic GA algorithm that is passed different functions\n",
    "\n",
    "def algorithm(item_weights, capacity=1000, generations=NUM_GENERATIONS, pop_size=POPULATION,\n",
    "              cross_rate=CROSSOVER_RATE, elite_factor=ELITE_FACTOR, fitness=capacity_error_fitness,\n",
    "              crossover=None, converge_gen=100):\n",
    "\n",
    "    # define average fitness list to plot\n",
    "    avg_fitness = []\n",
    "\n",
    "    # initial random population\n",
    "    population = [generate_population(item_weights) for _ in range(pop_size)]\n",
    "    # debug - print size of population\n",
    "    print(\"Population size: %d\" % len(population))\n",
    "    # debug - print length of first bin of first solution\n",
    "    print(\"Individual length: %d\" % len(population[0][0]))\n",
    "    # debug - print first solution\n",
    "    print(\"First solution: %s\" % population[0])\n",
    "\n",
    "    \n",
    "    # Store temp best solution\n",
    "    best_solution, best_fitness = 0, fitness(population[0][0], item_weights)\n",
    "\n",
    "    \n",
    "    # Loop generations\n",
    "    for gen in range(generations):\n",
    "        # Evaluate all individuals in population\n",
    "        scores = []\n",
    "        for individual in population:\n",
    "            # individual_fitness is the sum of the fitness of each bin of that individual\n",
    "            individual_fitness = 0\n",
    "            for bin in individual:\n",
    "                individual_fitness += fitness(bin, item_weights)\n",
    "            # store individual fitness in scores\n",
    "            scores.append(individual_fitness)\n",
    "        # calculate average fitness of generation\n",
    "        avg_fitness.append(sum(scores) / pop_size)\n",
    "\n",
    "        \"\"\"\n",
    "        # if there are enough generations to check for convergence\n",
    "        if gen >= converge_gen:\n",
    "            last_n_avg_fitnesses = avg_fitness[gen-converge_gen:gen]\n",
    "            # exit on convergence\n",
    "            if last_n_avg_fitnesses.count(last_n_avg_fitnesses[0]) == converge_gen:\n",
    "                print(\"Converged at generation %d\" % gen)\n",
    "                break\n",
    "        \"\"\"\n",
    "        \n",
    "        # print best score every 100 generations\n",
    "        if gen % 100 == 0:\n",
    "            print(\"Generation %d, best score = %.3f, average fitness = %.3f\" %\n",
    "                  (gen, min(scores), avg_fitness[gen]))\n",
    "\n",
    "        # Check for new best solution\n",
    "        for i in range(pop_size):\n",
    "            if scores[i] < best_fitness:\n",
    "                best_solution, best_fitness = population[i], scores[i]\n",
    "                print(\"Generation %d, new best f(%s) = %.3f\" %\n",
    "                      (gen, population[i], scores[i]))\n",
    "\n",
    "        # Select parents to mutate or crossover\n",
    "        parents = [tournament_selection(population, scores)\n",
    "                   for _ in range(pop_size)]\n",
    "        # Create next generation\n",
    "        children = list()\n",
    "        children.extend(elite_select(population, scores, elite_factor))\n",
    "\n",
    "        for i in range(0, pop_size):\n",
    "            children.append(mutate(parents[i]))\n",
    "        # Replace population\n",
    "        population = children\n",
    "        \n",
    "\n",
    "    # plot average fitness over generations\n",
    "    plt.plot(avg_fitness)\n",
    "    plt.xlabel('Generation')\n",
    "    plt.ylabel('Average Fitness')\n",
    "    plt.show()\n",
    "\n",
    "    return [best_solution, best_fitness]"
   ]
  },
  {
   "cell_type": "code",
   "execution_count": 56,
   "metadata": {},
   "outputs": [
    {
     "name": "stdout",
     "output_type": "stream",
     "text": [
      "BPP - 1\n",
      "Running algorithm...\n"
     ]
    },
    {
     "ename": "IndexError",
     "evalue": "list index out of range",
     "output_type": "error",
     "traceback": [
      "\u001b[1;31m---------------------------------------------------------------------------\u001b[0m",
      "\u001b[1;31mIndexError\u001b[0m                                Traceback (most recent call last)",
      "Cell \u001b[1;32mIn[56], line 5\u001b[0m\n\u001b[0;32m      3\u001b[0m \u001b[38;5;28mprint\u001b[39m(\u001b[38;5;124m\"\u001b[39m\u001b[38;5;124mRunning algorithm...\u001b[39m\u001b[38;5;124m\"\u001b[39m)\n\u001b[0;32m      4\u001b[0m \u001b[38;5;66;03m# TODO: \u001b[39;00m\n\u001b[1;32m----> 5\u001b[0m solution, score \u001b[38;5;241m=\u001b[39m \u001b[43malgorithm\u001b[49m\u001b[43m(\u001b[49m\u001b[43mNUM_WEIGHTS\u001b[49m\u001b[43m[\u001b[49m\u001b[38;5;241;43m0\u001b[39;49m\u001b[43m]\u001b[49m\u001b[43m,\u001b[49m\u001b[43m \u001b[49m\u001b[43mITEM_WEIGHTS\u001b[49m\u001b[43m[\u001b[49m\u001b[38;5;241;43m0\u001b[39;49m\u001b[43m]\u001b[49m\u001b[43m)\u001b[49m\n\u001b[0;32m      7\u001b[0m \u001b[38;5;28mprint\u001b[39m(\u001b[38;5;124m\"\u001b[39m\u001b[38;5;124mCompleted operations\u001b[39m\u001b[38;5;124m\"\u001b[39m)\n",
      "Cell \u001b[1;32mIn[55], line 13\u001b[0m, in \u001b[0;36malgorithm\u001b[1;34m(num_weights, item_weights, capacity, generations, pop_size, cross_rate, elite_factor, fitness, crossover, converge_gen)\u001b[0m\n\u001b[0;32m     10\u001b[0m avg_fitness \u001b[38;5;241m=\u001b[39m []\n\u001b[0;32m     12\u001b[0m \u001b[38;5;66;03m# initial random population\u001b[39;00m\n\u001b[1;32m---> 13\u001b[0m population \u001b[38;5;241m=\u001b[39m [generate_population(num_weights, item_weights, capacity) \u001b[38;5;28;01mfor\u001b[39;00m _ \u001b[38;5;129;01min\u001b[39;00m \u001b[38;5;28mrange\u001b[39m(pop_size)]\n\u001b[0;32m     14\u001b[0m \u001b[38;5;66;03m# debug - print size of population\u001b[39;00m\n\u001b[0;32m     15\u001b[0m \u001b[38;5;28mprint\u001b[39m(\u001b[38;5;124m\"\u001b[39m\u001b[38;5;124mPopulation size: \u001b[39m\u001b[38;5;132;01m%d\u001b[39;00m\u001b[38;5;124m\"\u001b[39m \u001b[38;5;241m%\u001b[39m \u001b[38;5;28mlen\u001b[39m(population))\n",
      "Cell \u001b[1;32mIn[55], line 13\u001b[0m, in \u001b[0;36m<listcomp>\u001b[1;34m(.0)\u001b[0m\n\u001b[0;32m     10\u001b[0m avg_fitness \u001b[38;5;241m=\u001b[39m []\n\u001b[0;32m     12\u001b[0m \u001b[38;5;66;03m# initial random population\u001b[39;00m\n\u001b[1;32m---> 13\u001b[0m population \u001b[38;5;241m=\u001b[39m [\u001b[43mgenerate_population\u001b[49m\u001b[43m(\u001b[49m\u001b[43mnum_weights\u001b[49m\u001b[43m,\u001b[49m\u001b[43m \u001b[49m\u001b[43mitem_weights\u001b[49m\u001b[43m,\u001b[49m\u001b[43m \u001b[49m\u001b[43mcapacity\u001b[49m\u001b[43m)\u001b[49m \u001b[38;5;28;01mfor\u001b[39;00m _ \u001b[38;5;129;01min\u001b[39;00m \u001b[38;5;28mrange\u001b[39m(pop_size)]\n\u001b[0;32m     14\u001b[0m \u001b[38;5;66;03m# debug - print size of population\u001b[39;00m\n\u001b[0;32m     15\u001b[0m \u001b[38;5;28mprint\u001b[39m(\u001b[38;5;124m\"\u001b[39m\u001b[38;5;124mPopulation size: \u001b[39m\u001b[38;5;132;01m%d\u001b[39;00m\u001b[38;5;124m\"\u001b[39m \u001b[38;5;241m%\u001b[39m \u001b[38;5;28mlen\u001b[39m(population))\n",
      "Cell \u001b[1;32mIn[54], line 10\u001b[0m, in \u001b[0;36mgenerate_population\u001b[1;34m(num_weights, item_weights, capacity, population_size)\u001b[0m\n\u001b[0;32m      7\u001b[0m     individual\u001b[38;5;241m.\u001b[39mappend([])\n\u001b[0;32m      8\u001b[0m     \u001b[38;5;28;01mfor\u001b[39;00m j \u001b[38;5;129;01min\u001b[39;00m \u001b[38;5;28mrange\u001b[39m(num_weights):\n\u001b[0;32m      9\u001b[0m         \u001b[38;5;66;03m# randomly generate a binary string of length num_weights\u001b[39;00m\n\u001b[1;32m---> 10\u001b[0m         \u001b[43mindividual\u001b[49m\u001b[43m[\u001b[49m\u001b[43mi\u001b[49m\u001b[43m]\u001b[49m\u001b[38;5;241m.\u001b[39mappend(random\u001b[38;5;241m.\u001b[39mrandint(\u001b[38;5;241m0\u001b[39m, \u001b[38;5;241m1\u001b[39m))\n\u001b[0;32m     12\u001b[0m     population\u001b[38;5;241m.\u001b[39mappend(individual)\n\u001b[0;32m     13\u001b[0m \u001b[38;5;28;01mreturn\u001b[39;00m population\n",
      "\u001b[1;31mIndexError\u001b[0m: list index out of range"
     ]
    }
   ],
   "source": [
    "if __name__ == '__main__':\n",
    "    print(\"BPP - 1\")\n",
    "    print(\"Running algorithm...\")\n",
    "    # TODO: \n",
    "    solution, score = algorithm(NUM_WEIGHTS[0], ITEM_WEIGHTS[0])\n",
    "        \n",
    "    print(\"Completed operations\")"
   ]
  }
 ],
 "metadata": {
  "kernelspec": {
   "display_name": "Python 3",
   "language": "python",
   "name": "python3"
  },
  "language_info": {
   "codemirror_mode": {
    "name": "ipython",
    "version": 3
   },
   "file_extension": ".py",
   "mimetype": "text/x-python",
   "name": "python",
   "nbconvert_exporter": "python",
   "pygments_lexer": "ipython3",
   "version": "3.9.13"
  }
 },
 "nbformat": 4,
 "nbformat_minor": 2
}
